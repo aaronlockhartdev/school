{
 "cells": [
  {
   "cell_type": "raw",
   "metadata": {},
   "source": [
    "import sys\n",
    "!{sys.executable} -m pip install pathos"
   ]
  },
  {
   "cell_type": "code",
   "execution_count": 24,
   "metadata": {
    "colab": {},
    "colab_type": "code",
    "id": "_9XC3RyG2nKK"
   },
   "outputs": [],
   "source": [
    "import matplotlib as mpl\n",
    "import matplotlib.pyplot as plt\n",
    "import numpy as np\n",
    "import pandas as pd\n",
    "import sklearn.metrics as mtrcs\n",
    "import random\n",
    "from multiprocessing import Pool\n",
    "from tqdm import trange, tqdm\n",
    "\n",
    "%matplotlib inline\n",
    "\n",
    "y_data = [0.006,0.02,0.042,0.072,0.11,0.162,0.232,0.332,0.494,1.0]\n",
    "x_data = [(x + 1)/10 for x in range(10)]\n",
    "\n",
    "LR = 0.005"
   ]
  },
  {
   "cell_type": "code",
   "execution_count": 3,
   "metadata": {
    "colab": {
     "base_uri": "https://localhost:8080/",
     "height": 282
    },
    "colab_type": "code",
    "id": "jCx8S2S34SvC",
    "outputId": "6cc38ae1-300b-4d4a-b329-a6f4624cca87"
   },
   "outputs": [
    {
     "data": {
      "text/plain": [
       "[<matplotlib.lines.Line2D at 0x7f18e7f3e610>]"
      ]
     },
     "execution_count": 3,
     "metadata": {},
     "output_type": "execute_result"
    },
    {
     "data": {
      "image/png": "[encoded data removed]",
      "text/plain": [
       "<Figure size 432x288 with 1 Axes>"
      ]
     },
     "metadata": {
      "needs_background": "light"
     },
     "output_type": "display_data"
    }
   ],
   "source": [
    "plt.plot(x_data, y_data)"
   ]
  },
  {
   "cell_type": "code",
   "execution_count": 18,
   "metadata": {
    "colab": {},
    "colab_type": "code",
    "id": "Q2Dyeclv4dgl"
   },
   "outputs": [],
   "source": [
    "class Model():\n",
    "    def __init__(self):\n",
    "        self.hyper_n = 100\n",
    "        self.b_list = [random.random()/1000 for x in range(self.hyper_n)]\n",
    "        self.r2 = 0\n",
    "        self.loss = 0\n",
    "        self.results = []\n",
    "#         self.p_forward = Pool()\n",
    "#         self.p_backward = Pool()\n",
    "    def mse(self, y_data):\n",
    "        tmp = [(y_data[i] - o) ** 2 for i, o in enumerate(self.results)]\n",
    "        return sum(tmp) / len(tmp)\n",
    "    def forward_pass(self, x_data):\n",
    "        self.results = []\n",
    "        for x in x_data:\n",
    "            self.results.append(sum([(x ** (i + 1)) * b for i, b in enumerate(self.b_list)]))\n",
    "        return self.results\n",
    "    def backpropogate(self, x_data, y_data):\n",
    "#         derivatives = [sum([2 * (i + 1) * b * (x ** i) * (self.results[j] - y_data[j]) for j, x in enumerate(x_data)]) for i, b in enumerate(self.b_list)]\n",
    "        derivatives = [sum([2 * (x ** i) * (self.results[j] - y_data[j]) for j, x in enumerate(x_data)]) for i, b in enumerate(self.b_list)]\n",
    "        for i, d in enumerate(derivatives):\n",
    "            self.b_list[i] -= d * LR\n",
    "        self.loss = self.mse(y_data)\n",
    "        self.r2 = mtrcs.r2_score(y_data, self.results)\n",
    "#     print(f'Backpropogation completed with loss of {self.loss} and r2 value of {self.r2}',end='\\r')\n",
    "    \n",
    "model = Model()"
   ]
  },
  {
   "cell_type": "code",
   "execution_count": 3,
   "metadata": {
    "colab": {},
    "colab_type": "code",
    "id": "jiveZCzamt7B"
   },
   "outputs": [],
   "source": [
    "saved_weights = [0.022794966887037086, 0.38679954206734235, 1.6575126186708116e-18, 3.6066554693488e-17, 2.4479375267259837e-08, 0.02782823664977261, 0.27125042362988144, 0.01077225931494082, 9.750376091849139e-06, 5.142880303569075e-09, 4.433254127050826e-12, 1.7702132231646362e-13, 1.3976413267562914e-15, 2.2668139385645383e-13, 8.513590517923411e-13, 1.1633053197689978e-11, 2.3013677517080675e-11, 4.4433604264814945e-09, 7.529400324246604e-08, 8.466100612901005e-09, 3.918819952774043e-06, 6.697873379528897e-05, 0.00010768806701366537, 0.001639321911346495, 0.005591439162073219, 0.0057811557829695595, 0.010231702883039342, 0.017817659542707233, 0.014194661800244035, 0.06941508431270643, 0.04853618994211445, 0.03729721505588394, 0.013770313634011865, 0.023390895549347746, 0.01778091267636387, 0.004889624207710503, 0.005307408986895678, 0.001563989188928049, 0.0004939463614832483, 0.0009070164749678498, 0.0006630121623332782, 0.0005025067469738745, 0.00011239377904453482, 0.000224289774650805, 6.650630737823924e-05, 7.63621638541099e-05, 3.498111668338758e-05, 4.329635245755705e-05, 5.248863915695327e-06, 4.665333614426717e-06, 2.0357894317044866e-06, 4.848349503049015e-06, 4.727178874921569e-06, 5.071651333852877e-06, 1.1146552630700468e-06, 2.241278003411255e-06, 7.873738683469111e-07, 1.5652784309974772e-06, 3.362939983325618e-07, 3.124030124936194e-07, 4.826185461744104e-07, 1.3303650589940566e-07, 2.1709998698656816e-07, 1.8338944116610392e-07, 6.10574102513269e-09, 3.483370700211073e-08, 3.088184065928292e-08, 5.103484537817617e-08, 2.4394241090211776e-08, 4.528658909729065e-08, 5.651713125780142e-08, 1.3030157710220207e-08, 1.494207679714811e-08, 1.5873729020409987e-08, 2.6729472451557187e-08, 1.9838353714176232e-08, 7.25033928178983e-09, 1.5765532452753986e-08, 3.4614556584581385e-09, 5.129996375128309e-09, 8.989011285385643e-09, 3.0399051747379453e-09, 2.6078464654583103e-09, 2.140734256989687e-11, 2.1490893338521948e-09, 1.3217631550655618e-09, 2.883822437720924e-09, 2.39563433530812e-09, 1.616436794081185e-09, 6.938976995509723e-10, 3.204992789780701e-10, 1.7943480295174862e-10, 6.055710093721396e-11, 4.4812531227110805e-10, 6.055589831059936e-10, 4.241209520444789e-10, 1.5261439757579497e-10, 2.1980457920889383e-10, 2.4383304131119596e-10, 6.132699316745875e-11]\n",
    "saved_weights1 = [0.023070146795452967, 0.38379157735693203, 0.006718516404288282, -0.014378094737395252, 0.0404150244199437, 0.07261800057079389, 0.07594984378475837, 0.0634946932360781, 0.04639775878074085, 0.03010460819645215, 0.017045245130772126, 0.008407974839608982, 0.0026127399641891753, -0.00012546005458850826, -0.0015691332930907697, -0.001543912567557937, -0.0009506542279917797, -1.3183741421605997e-05, 0.0008343558006450839, 0.0019698656345813652, 0.0022766515638419555, 0.0032497946968075165, 0.0034185264499576014, 0.004309752836550532, 0.0045864045135181695, 0.00431031596206271, 0.00481576608743918, 0.005072907732098591, 0.005093618524188072, 0.00522658516575205, 0.004873486329585498, 0.005030344697562063, 0.004572072644839283, 0.004597117888375854, 0.00475024387687907, 0.004173380897139006, 0.00364126632832702, 0.003775782651918894, 0.00389297092517302, 0.0037876920800783, 0.0031792592182581076, 0.0037374367065063103, 0.0034380747829506134, 0.0035177879807289578, 0.003292386561403994, 0.003216910854695308, 0.0034082520240216476, 0.0030184134991921912, 0.002950566804529379, 0.002783719713551719, 0.00314347444036744, 0.00243369886216867, 0.0027202064385495575, 0.0024924390562646994, 0.002990034441976428, 0.002752173266819494, 0.0030939706791007337, 0.002553370733826875, 0.0027197839317981394, 0.0024336945529237013, 0.0029004559593328308, 0.0021966422710447873, 0.002792207415237001, 0.00301275666553339, 0.002872856210577249, 0.002382891060191778, 0.002571464858380511, 0.002150309412685008, 0.0023967985484026066, 0.0021081959766659445, 0.0026289127237009505, 0.00272727210928413, 0.002655758922277447, 0.0021294165975018703, 0.002500312222797719, 0.0029177728495183887, 0.002749647993064047, 0.002324416264161038, 0.0025080619050958184, 0.002853016568109954, 0.002555977518886928, 0.002521062454958232, 0.0023379525468501024, 0.002517736126973153, 0.002321899354880264, 0.0022876446868965667, 0.002990356054599913, 0.0025391387759514496, 0.002301617314917596, 0.002588310112296953, 0.0024583180274272, 0.002587585306765031, 0.002499267756448978, 0.00213055221543022, 0.00250703030788309, 0.002093436368075152, 0.002445564764358615, 0.00203844127500435, 0.002174616394916026, 0.0025442971053820165]\n",
    "model.b_list = saved_weights1"
   ]
  },
  {
   "cell_type": "code",
   "execution_count": 32,
   "metadata": {
    "colab": {
     "base_uri": "https://localhost:8080/",
     "height": 358
    },
    "colab_type": "code",
    "id": "ySF1fm0D7bTF",
    "outputId": "578a8e1e-7de6-41d7-e962-15a854d0810a"
   },
   "outputs": [
    {
     "name": "stderr",
     "output_type": "stream",
     "text": [
      "r2 = 0.99999856815977539171:   0%|          | 2412/1000000 [00:07<51:32, 322.57it/s]\n"
     ]
    },
    {
     "ename": "KeyboardInterrupt",
     "evalue": "",
     "output_type": "error",
     "traceback": [
      "\u001b[0;31m---------------------------------------------------------------------------\u001b[0m",
      "\u001b[0;31mKeyboardInterrupt\u001b[0m                         Traceback (most recent call last)",
      "\u001b[0;32m<ipython-input-32-d7ed2676efa7>\u001b[0m in \u001b[0;36m<module>\u001b[0;34m\u001b[0m\n\u001b[1;32m      4\u001b[0m     \u001b[0mpbar\u001b[0m\u001b[0;34m.\u001b[0m\u001b[0mrefresh\u001b[0m\u001b[0;34m(\u001b[0m\u001b[0;34m)\u001b[0m\u001b[0;34m\u001b[0m\u001b[0;34m\u001b[0m\u001b[0m\n\u001b[1;32m      5\u001b[0m     \u001b[0mmodel\u001b[0m\u001b[0;34m.\u001b[0m\u001b[0mforward_pass\u001b[0m\u001b[0;34m(\u001b[0m\u001b[0mx_data\u001b[0m\u001b[0;34m)\u001b[0m\u001b[0;34m\u001b[0m\u001b[0;34m\u001b[0m\u001b[0m\n\u001b[0;32m----> 6\u001b[0;31m     \u001b[0mmodel\u001b[0m\u001b[0;34m.\u001b[0m\u001b[0mbackpropogate\u001b[0m\u001b[0;34m(\u001b[0m\u001b[0mx_data\u001b[0m\u001b[0;34m,\u001b[0m \u001b[0my_data\u001b[0m\u001b[0;34m)\u001b[0m\u001b[0;34m\u001b[0m\u001b[0;34m\u001b[0m\u001b[0m\n\u001b[0m",
      "\u001b[0;32m<ipython-input-18-cc08f899b8ea>\u001b[0m in \u001b[0;36mbackpropogate\u001b[0;34m(self, x_data, y_data)\u001b[0m\n\u001b[1;32m     22\u001b[0m             \u001b[0mself\u001b[0m\u001b[0;34m.\u001b[0m\u001b[0mb_list\u001b[0m\u001b[0;34m[\u001b[0m\u001b[0mi\u001b[0m\u001b[0;34m]\u001b[0m \u001b[0;34m-=\u001b[0m \u001b[0md\u001b[0m \u001b[0;34m*\u001b[0m \u001b[0mLR\u001b[0m\u001b[0;34m\u001b[0m\u001b[0;34m\u001b[0m\u001b[0m\n\u001b[1;32m     23\u001b[0m         \u001b[0mself\u001b[0m\u001b[0;34m.\u001b[0m\u001b[0mloss\u001b[0m \u001b[0;34m=\u001b[0m \u001b[0mself\u001b[0m\u001b[0;34m.\u001b[0m\u001b[0mmse\u001b[0m\u001b[0;34m(\u001b[0m\u001b[0my_data\u001b[0m\u001b[0;34m)\u001b[0m\u001b[0;34m\u001b[0m\u001b[0;34m\u001b[0m\u001b[0m\n\u001b[0;32m---> 24\u001b[0;31m         \u001b[0mself\u001b[0m\u001b[0;34m.\u001b[0m\u001b[0mr2\u001b[0m \u001b[0;34m=\u001b[0m \u001b[0mmtrcs\u001b[0m\u001b[0;34m.\u001b[0m\u001b[0mr2_score\u001b[0m\u001b[0;34m(\u001b[0m\u001b[0my_data\u001b[0m\u001b[0;34m,\u001b[0m \u001b[0mself\u001b[0m\u001b[0;34m.\u001b[0m\u001b[0mresults\u001b[0m\u001b[0;34m)\u001b[0m\u001b[0;34m\u001b[0m\u001b[0;34m\u001b[0m\u001b[0m\n\u001b[0m\u001b[1;32m     25\u001b[0m \u001b[0;31m#     print(f'Backpropogation completed with loss of {self.loss} and r2 value of {self.r2}',end='\\r')\u001b[0m\u001b[0;34m\u001b[0m\u001b[0;34m\u001b[0m\u001b[0;34m\u001b[0m\u001b[0m\n\u001b[1;32m     26\u001b[0m \u001b[0;34m\u001b[0m\u001b[0m\n",
      "\u001b[0;32m~/venv/lib/python3.8/site-packages/sklearn/utils/validation.py\u001b[0m in \u001b[0;36minner_f\u001b[0;34m(*args, **kwargs)\u001b[0m\n\u001b[1;32m     70\u001b[0m                           FutureWarning)\n\u001b[1;32m     71\u001b[0m         \u001b[0mkwargs\u001b[0m\u001b[0;34m.\u001b[0m\u001b[0mupdate\u001b[0m\u001b[0;34m(\u001b[0m\u001b[0;34m{\u001b[0m\u001b[0mk\u001b[0m\u001b[0;34m:\u001b[0m \u001b[0marg\u001b[0m \u001b[0;32mfor\u001b[0m \u001b[0mk\u001b[0m\u001b[0;34m,\u001b[0m \u001b[0marg\u001b[0m \u001b[0;32min\u001b[0m \u001b[0mzip\u001b[0m\u001b[0;34m(\u001b[0m\u001b[0msig\u001b[0m\u001b[0;34m.\u001b[0m\u001b[0mparameters\u001b[0m\u001b[0;34m,\u001b[0m \u001b[0margs\u001b[0m\u001b[0;34m)\u001b[0m\u001b[0;34m}\u001b[0m\u001b[0;34m)\u001b[0m\u001b[0;34m\u001b[0m\u001b[0;34m\u001b[0m\u001b[0m\n\u001b[0;32m---> 72\u001b[0;31m         \u001b[0;32mreturn\u001b[0m \u001b[0mf\u001b[0m\u001b[0;34m(\u001b[0m\u001b[0;34m**\u001b[0m\u001b[0mkwargs\u001b[0m\u001b[0;34m)\u001b[0m\u001b[0;34m\u001b[0m\u001b[0;34m\u001b[0m\u001b[0m\n\u001b[0m\u001b[1;32m     73\u001b[0m     \u001b[0;32mreturn\u001b[0m \u001b[0minner_f\u001b[0m\u001b[0;34m\u001b[0m\u001b[0;34m\u001b[0m\u001b[0m\n\u001b[1;32m     74\u001b[0m \u001b[0;34m\u001b[0m\u001b[0m\n",
      "\u001b[0;32m~/venv/lib/python3.8/site-packages/sklearn/metrics/_regression.py\u001b[0m in \u001b[0;36mr2_score\u001b[0;34m(y_true, y_pred, sample_weight, multioutput)\u001b[0m\n\u001b[1;32m    586\u001b[0m     \u001b[0;34m-\u001b[0m\u001b[0;36m3.0\u001b[0m\u001b[0;34m\u001b[0m\u001b[0;34m\u001b[0m\u001b[0m\n\u001b[1;32m    587\u001b[0m     \"\"\"\n\u001b[0;32m--> 588\u001b[0;31m     y_type, y_true, y_pred, multioutput = _check_reg_targets(\n\u001b[0m\u001b[1;32m    589\u001b[0m         y_true, y_pred, multioutput)\n\u001b[1;32m    590\u001b[0m     \u001b[0mcheck_consistent_length\u001b[0m\u001b[0;34m(\u001b[0m\u001b[0my_true\u001b[0m\u001b[0;34m,\u001b[0m \u001b[0my_pred\u001b[0m\u001b[0;34m,\u001b[0m \u001b[0msample_weight\u001b[0m\u001b[0;34m)\u001b[0m\u001b[0;34m\u001b[0m\u001b[0;34m\u001b[0m\u001b[0m\n",
      "\u001b[0;32m~/venv/lib/python3.8/site-packages/sklearn/metrics/_regression.py\u001b[0m in \u001b[0;36m_check_reg_targets\u001b[0;34m(y_true, y_pred, multioutput, dtype)\u001b[0m\n\u001b[1;32m     83\u001b[0m     \"\"\"\n\u001b[1;32m     84\u001b[0m     \u001b[0mcheck_consistent_length\u001b[0m\u001b[0;34m(\u001b[0m\u001b[0my_true\u001b[0m\u001b[0;34m,\u001b[0m \u001b[0my_pred\u001b[0m\u001b[0;34m)\u001b[0m\u001b[0;34m\u001b[0m\u001b[0;34m\u001b[0m\u001b[0m\n\u001b[0;32m---> 85\u001b[0;31m     \u001b[0my_true\u001b[0m \u001b[0;34m=\u001b[0m \u001b[0mcheck_array\u001b[0m\u001b[0;34m(\u001b[0m\u001b[0my_true\u001b[0m\u001b[0;34m,\u001b[0m \u001b[0mensure_2d\u001b[0m\u001b[0;34m=\u001b[0m\u001b[0;32mFalse\u001b[0m\u001b[0;34m,\u001b[0m \u001b[0mdtype\u001b[0m\u001b[0;34m=\u001b[0m\u001b[0mdtype\u001b[0m\u001b[0;34m)\u001b[0m\u001b[0;34m\u001b[0m\u001b[0;34m\u001b[0m\u001b[0m\n\u001b[0m\u001b[1;32m     86\u001b[0m     \u001b[0my_pred\u001b[0m \u001b[0;34m=\u001b[0m \u001b[0mcheck_array\u001b[0m\u001b[0;34m(\u001b[0m\u001b[0my_pred\u001b[0m\u001b[0;34m,\u001b[0m \u001b[0mensure_2d\u001b[0m\u001b[0;34m=\u001b[0m\u001b[0;32mFalse\u001b[0m\u001b[0;34m,\u001b[0m \u001b[0mdtype\u001b[0m\u001b[0;34m=\u001b[0m\u001b[0mdtype\u001b[0m\u001b[0;34m)\u001b[0m\u001b[0;34m\u001b[0m\u001b[0;34m\u001b[0m\u001b[0m\n\u001b[1;32m     87\u001b[0m \u001b[0;34m\u001b[0m\u001b[0m\n",
      "\u001b[0;32m~/venv/lib/python3.8/site-packages/sklearn/utils/validation.py\u001b[0m in \u001b[0;36minner_f\u001b[0;34m(*args, **kwargs)\u001b[0m\n\u001b[1;32m     70\u001b[0m                           FutureWarning)\n\u001b[1;32m     71\u001b[0m         \u001b[0mkwargs\u001b[0m\u001b[0;34m.\u001b[0m\u001b[0mupdate\u001b[0m\u001b[0;34m(\u001b[0m\u001b[0;34m{\u001b[0m\u001b[0mk\u001b[0m\u001b[0;34m:\u001b[0m \u001b[0marg\u001b[0m \u001b[0;32mfor\u001b[0m \u001b[0mk\u001b[0m\u001b[0;34m,\u001b[0m \u001b[0marg\u001b[0m \u001b[0;32min\u001b[0m \u001b[0mzip\u001b[0m\u001b[0;34m(\u001b[0m\u001b[0msig\u001b[0m\u001b[0;34m.\u001b[0m\u001b[0mparameters\u001b[0m\u001b[0;34m,\u001b[0m \u001b[0margs\u001b[0m\u001b[0;34m)\u001b[0m\u001b[0;34m}\u001b[0m\u001b[0;34m)\u001b[0m\u001b[0;34m\u001b[0m\u001b[0;34m\u001b[0m\u001b[0m\n\u001b[0;32m---> 72\u001b[0;31m         \u001b[0;32mreturn\u001b[0m \u001b[0mf\u001b[0m\u001b[0;34m(\u001b[0m\u001b[0;34m**\u001b[0m\u001b[0mkwargs\u001b[0m\u001b[0;34m)\u001b[0m\u001b[0;34m\u001b[0m\u001b[0;34m\u001b[0m\u001b[0m\n\u001b[0m\u001b[1;32m     73\u001b[0m     \u001b[0;32mreturn\u001b[0m \u001b[0minner_f\u001b[0m\u001b[0;34m\u001b[0m\u001b[0;34m\u001b[0m\u001b[0m\n\u001b[1;32m     74\u001b[0m \u001b[0;34m\u001b[0m\u001b[0m\n",
      "\u001b[0;32m~/venv/lib/python3.8/site-packages/sklearn/utils/validation.py\u001b[0m in \u001b[0;36mcheck_array\u001b[0;34m(array, accept_sparse, accept_large_sparse, dtype, order, copy, force_all_finite, ensure_2d, allow_nd, ensure_min_samples, ensure_min_features, estimator)\u001b[0m\n\u001b[1;32m    642\u001b[0m \u001b[0;34m\u001b[0m\u001b[0m\n\u001b[1;32m    643\u001b[0m         \u001b[0;32mif\u001b[0m \u001b[0mforce_all_finite\u001b[0m\u001b[0;34m:\u001b[0m\u001b[0;34m\u001b[0m\u001b[0;34m\u001b[0m\u001b[0m\n\u001b[0;32m--> 644\u001b[0;31m             _assert_all_finite(array,\n\u001b[0m\u001b[1;32m    645\u001b[0m                                allow_nan=force_all_finite == 'allow-nan')\n\u001b[1;32m    646\u001b[0m \u001b[0;34m\u001b[0m\u001b[0m\n",
      "\u001b[0;32m~/venv/lib/python3.8/site-packages/sklearn/utils/validation.py\u001b[0m in \u001b[0;36m_assert_all_finite\u001b[0;34m(X, allow_nan, msg_dtype)\u001b[0m\n\u001b[1;32m     86\u001b[0m     \u001b[0;31m# false positives from overflow in sum method. The sum is also calculated\u001b[0m\u001b[0;34m\u001b[0m\u001b[0;34m\u001b[0m\u001b[0;34m\u001b[0m\u001b[0m\n\u001b[1;32m     87\u001b[0m     \u001b[0;31m# safely to reduce dtype induced overflows.\u001b[0m\u001b[0;34m\u001b[0m\u001b[0;34m\u001b[0m\u001b[0;34m\u001b[0m\u001b[0m\n\u001b[0;32m---> 88\u001b[0;31m     \u001b[0mis_float\u001b[0m \u001b[0;34m=\u001b[0m \u001b[0mX\u001b[0m\u001b[0;34m.\u001b[0m\u001b[0mdtype\u001b[0m\u001b[0;34m.\u001b[0m\u001b[0mkind\u001b[0m \u001b[0;32min\u001b[0m \u001b[0;34m'fc'\u001b[0m\u001b[0;34m\u001b[0m\u001b[0;34m\u001b[0m\u001b[0m\n\u001b[0m\u001b[1;32m     89\u001b[0m     \u001b[0;32mif\u001b[0m \u001b[0mis_float\u001b[0m \u001b[0;32mand\u001b[0m \u001b[0;34m(\u001b[0m\u001b[0mnp\u001b[0m\u001b[0;34m.\u001b[0m\u001b[0misfinite\u001b[0m\u001b[0;34m(\u001b[0m\u001b[0m_safe_accumulator_op\u001b[0m\u001b[0;34m(\u001b[0m\u001b[0mnp\u001b[0m\u001b[0;34m.\u001b[0m\u001b[0msum\u001b[0m\u001b[0;34m,\u001b[0m \u001b[0mX\u001b[0m\u001b[0;34m)\u001b[0m\u001b[0;34m)\u001b[0m\u001b[0;34m)\u001b[0m\u001b[0;34m:\u001b[0m\u001b[0;34m\u001b[0m\u001b[0;34m\u001b[0m\u001b[0m\n\u001b[1;32m     90\u001b[0m         \u001b[0;32mpass\u001b[0m\u001b[0;34m\u001b[0m\u001b[0;34m\u001b[0m\u001b[0m\n",
      "\u001b[0;31mKeyboardInterrupt\u001b[0m: "
     ]
    }
   ],
   "source": [
    "pbar = trange(1000000, desc=\"r2 = {r2:.20f}\".format(r2=model.r2))\n",
    "for i in pbar:\n",
    "    pbar.set_description(\"r2 = {r2:.20f}\".format(r2=model.r2))\n",
    "    pbar.refresh()\n",
    "    model.forward_pass(x_data)\n",
    "    model.backpropogate(x_data, y_data)"
   ]
  },
  {
   "cell_type": "code",
   "execution_count": 34,
   "metadata": {
    "colab": {
     "base_uri": "https://localhost:8080/",
     "height": 54
    },
    "colab_type": "code",
    "id": "d55HnLQNLi8g",
    "outputId": "36d5e165-968b-409e-91d0-265d4a7cb356"
   },
   "outputs": [
    {
     "name": "stdout",
     "output_type": "stream",
     "text": [
      "[0.023070146795452967, 0.38379157735693203, 0.006718516404288282, -0.014378094737395252, 0.0404150244199437, 0.07261800057079389, 0.07594984378475837, 0.0634946932360781, 0.04639775878074085, 0.03010460819645215, 0.017045245130772126, 0.008407974839608982, 0.0026127399641891753, -0.00012546005458850826, -0.0015691332930907697, -0.001543912567557937, -0.0009506542279917797, -1.3183741421605997e-05, 0.0008343558006450839, 0.0019698656345813652, 0.0022766515638419555, 0.0032497946968075165, 0.0034185264499576014, 0.004309752836550532, 0.0045864045135181695, 0.00431031596206271, 0.00481576608743918, 0.005072907732098591, 0.005093618524188072, 0.00522658516575205, 0.004873486329585498, 0.005030344697562063, 0.004572072644839283, 0.004597117888375854, 0.00475024387687907, 0.004173380897139006, 0.00364126632832702, 0.003775782651918894, 0.00389297092517302, 0.0037876920800783, 0.0031792592182581076, 0.0037374367065063103, 0.0034380747829506134, 0.0035177879807289578, 0.003292386561403994, 0.003216910854695308, 0.0034082520240216476, 0.0030184134991921912, 0.002950566804529379, 0.002783719713551719, 0.00314347444036744, 0.00243369886216867, 0.0027202064385495575, 0.0024924390562646994, 0.002990034441976428, 0.002752173266819494, 0.0030939706791007337, 0.002553370733826875, 0.0027197839317981394, 0.0024336945529237013, 0.0029004559593328308, 0.0021966422710447873, 0.002792207415237001, 0.00301275666553339, 0.002872856210577249, 0.002382891060191778, 0.002571464858380511, 0.002150309412685008, 0.0023967985484026066, 0.0021081959766659445, 0.0026289127237009505, 0.00272727210928413, 0.002655758922277447, 0.0021294165975018703, 0.002500312222797719, 0.0029177728495183887, 0.002749647993064047, 0.002324416264161038, 0.0025080619050958184, 0.002853016568109954, 0.002555977518886928, 0.002521062454958232, 0.0023379525468501024, 0.002517736126973153, 0.002321899354880264, 0.0022876446868965667, 0.002990356054599913, 0.0025391387759514496, 0.002301617314917596, 0.002588310112296953, 0.0024583180274272, 0.002587585306765031, 0.002499267756448978, 0.00213055221543022, 0.00250703030788309, 0.002093436368075152, 0.002445564764358615, 0.00203844127500435, 0.002174616394916026, 0.0025442971053820165]\n"
     ]
    }
   ],
   "source": [
    "print(model.b_list)"
   ]
  },
  {
   "cell_type": "code",
   "execution_count": 27,
   "metadata": {
    "colab": {},
    "colab_type": "code",
    "id": "RCnMrk7Gp6X5"
   },
   "outputs": [],
   "source": [
    "import decimal\n",
    "\n",
    "# create a new context for this task\n",
    "ctx = decimal.Context()\n",
    "\n",
    "# 20 digits should be enough for everyone :D\n",
    "ctx.prec = 100\n",
    "\n",
    "def float_to_str(f):\n",
    "    \"\"\"\n",
    "    Convert the given float to a string,\n",
    "    without resorting to scientific notation\n",
    "    \"\"\"\n",
    "    d1 = ctx.create_decimal(repr(f))\n",
    "    return format(d1, 'f')"
   ]
  },
  {
   "cell_type": "code",
   "execution_count": 33,
   "metadata": {},
   "outputs": [
    {
     "name": "stdout",
     "output_type": "stream",
     "text": [
      "f(x) = 0.023070146795452967x^{1} + 0.38379157735693203x^{2} + 0.006718516404288282x^{3} + -0.014378094737395252x^{4} + 0.0404150244199437x^{5} + 0.07261800057079389x^{6} + 0.07594984378475837x^{7} + 0.0634946932360781x^{8} + 0.04639775878074085x^{9} + 0.03010460819645215x^{10} + 0.017045245130772126x^{11} + 0.008407974839608982x^{12} + 0.0026127399641891753x^{13} + -0.00012546005458850826x^{14} + -0.0015691332930907697x^{15} + -0.001543912567557937x^{16} + -0.0009506542279917797x^{17} + -0.000013183741421605997x^{18} + 0.0008343558006450839x^{19} + 0.0019698656345813652x^{20} + 0.0022766515638419555x^{21} + 0.0032497946968075165x^{22} + 0.0034185264499576014x^{23} + 0.004309752836550532x^{24} + 0.0045864045135181695x^{25} + 0.00431031596206271x^{26} + 0.00481576608743918x^{27} + 0.005072907732098591x^{28} + 0.005093618524188072x^{29} + 0.00522658516575205x^{30} + 0.004873486329585498x^{31} + 0.005030344697562063x^{32} + 0.004572072644839283x^{33} + 0.004597117888375854x^{34} + 0.00475024387687907x^{35} + 0.004173380897139006x^{36} + 0.00364126632832702x^{37} + 0.003775782651918894x^{38} + 0.00389297092517302x^{39} + 0.0037876920800783x^{40} + 0.0031792592182581076x^{41} + 0.0037374367065063103x^{42} + 0.0034380747829506134x^{43} + 0.0035177879807289578x^{44} + 0.003292386561403994x^{45} + 0.003216910854695308x^{46} + 0.0034082520240216476x^{47} + 0.0030184134991921912x^{48} + 0.002950566804529379x^{49} + 0.002783719713551719x^{50} + 0.00314347444036744x^{51} + 0.00243369886216867x^{52} + 0.0027202064385495575x^{53} + 0.0024924390562646994x^{54} + 0.002990034441976428x^{55} + 0.002752173266819494x^{56} + 0.0030939706791007337x^{57} + 0.002553370733826875x^{58} + 0.0027197839317981394x^{59} + 0.0024336945529237013x^{60} + 0.0029004559593328308x^{61} + 0.0021966422710447873x^{62} + 0.002792207415237001x^{63} + 0.00301275666553339x^{64} + 0.002872856210577249x^{65} + 0.002382891060191778x^{66} + 0.002571464858380511x^{67} + 0.002150309412685008x^{68} + 0.0023967985484026066x^{69} + 0.0021081959766659445x^{70} + 0.0026289127237009505x^{71} + 0.00272727210928413x^{72} + 0.002655758922277447x^{73} + 0.0021294165975018703x^{74} + 0.002500312222797719x^{75} + 0.0029177728495183887x^{76} + 0.002749647993064047x^{77} + 0.002324416264161038x^{78} + 0.0025080619050958184x^{79} + 0.002853016568109954x^{80} + 0.002555977518886928x^{81} + 0.002521062454958232x^{82} + 0.0023379525468501024x^{83} + 0.002517736126973153x^{84} + 0.002321899354880264x^{85} + 0.0022876446868965667x^{86} + 0.002990356054599913x^{87} + 0.0025391387759514496x^{88} + 0.002301617314917596x^{89} + 0.002588310112296953x^{90} + 0.0024583180274272x^{91} + 0.002587585306765031x^{92} + 0.002499267756448978x^{93} + 0.00213055221543022x^{94} + 0.00250703030788309x^{95} + 0.002093436368075152x^{96} + 0.002445564764358615x^{97} + 0.00203844127500435x^{98} + 0.002174616394916026x^{99} + 0.0025442971053820165x^{100}\n"
     ]
    }
   ],
   "source": [
    "equation = \"f(x) = \"\n",
    "for i,b in enumerate(model.b_list):\n",
    "    equation += f\"{float_to_str(b)}x^{{{i+1}}}\"\n",
    "    if i < len(model.b_list) - 1:\n",
    "        equation += \" + \"\n",
    "print(equation)"
   ]
  },
  {
   "cell_type": "code",
   "execution_count": 28,
   "metadata": {
    "colab": {
     "base_uri": "https://localhost:8080/",
     "height": 54
    },
    "colab_type": "code",
    "id": "-2-AZ_w2h4vF",
    "outputId": "614a1d07-dd4b-4c20-ccf1-c1ee85978ab2",
    "scrolled": true
   },
   "outputs": [
    {
     "name": "stdout",
     "output_type": "stream",
     "text": [
      "f(x) = {} & 0.02734602248705817x^{1} + 0.3515427283956668x^{2} + \\\\\n",
      "\t& 0.059564286950381275x^{3} + -0.002712023377075973x^{4} + \\\\\n",
      "\t& 0.016609175250845116x^{5} + 0.042149290357655585x^{6} + \\\\\n",
      "\t& 0.05560130283520323x^{7} + 0.05759871684126538x^{8} + \\\\\n",
      "\t& 0.05266572772200555x^{9} + 0.044069350364277504x^{10} + \\\\\n",
      "\t& 0.03437214103991087x^{11} + 0.025777960305782263x^{12} + \\\\\n",
      "\t& 0.017863921166882096x^{13} + 0.011832615826150259x^{14} + \\\\\n",
      "\t& 0.006652480406761774x^{15} + 0.0029851882079128095x^{16} + \\\\\n",
      "\t& 0.00022172481469325445x^{17} + -0.001712264398152384x^{18} + \\\\\n",
      "\t& -0.003197832991440384x^{19} + -0.0038647605040258164x^{20} + \\\\\n",
      "\t& -0.004872483767390835x^{21} + -0.004786142625949827x^{22} + \\\\\n",
      "\t& -0.005142772499193578x^{23} + -0.0044807638765645705x^{24} + \\\\\n",
      "\t& -0.004197538199686377x^{25} + -0.004284712319708263x^{26} + \\\\\n",
      "\t& -0.0034538864487809275x^{27} + -0.002773320722680351x^{28} + \\\\\n",
      "\t& -0.0022626267861068244x^{29} + -0.0015984397233876502x^{30} + \\\\\n",
      "\t& -0.0013990650198838254x^{31} + -0.0006839458473085666x^{32} + \\\\\n",
      "\t& -0.0005898791271202184x^{33} + -0.000027051012717057563x^{34} + \\\\\n",
      "\t& 0.0006431510095222013x^{35} + 0.0005584844121681914x^{36} + \\\\\n",
      "\t& 0.0004910687647916625x^{37} + 0.00106137388485422x^{38} + \\\\\n",
      "\t& 0.0015849473978692787x^{39} + 0.0018568448376246266x^{40} + \\\\\n",
      "\t& 0.0015970768371963498x^{41} + 0.0024764614687771626x^{42} + \\\\\n",
      "\t& 0.002472143662981542x^{43} + 0.002822184196597744x^{44} + \\\\\n",
      "\t& 0.0028439225226848286x^{45} + 0.0029939592313060065x^{46} + \\\\\n",
      "\t& 0.003390738262410509x^{47} + 0.0031877803251293625x^{48} + \\\\\n",
      "\t& 0.0032897189824355314x^{49} + 0.003276955496615636x^{50} + \\\\\n",
      "\t& 0.0037764086698614044x^{51} + 0.003193181494747858x^{52} + \\\\\n",
      "\t& 0.003594239342919106x^{53} + 0.0034700931800790273x^{54} + \\\\\n",
      "\t& 0.004061368868518808x^{55} + 0.003908157227765631x^{56} + \\\\\n",
      "\t& 0.004326409239014292x^{57} + 0.0038548345931317773x^{58} + \\\\\n",
      "\t& 0.0040835435909567395x^{59} + 0.00385365892777473x^{60} + \\\\\n",
      "\t& 0.004371115425020355x^{61} + 0.0037130160308934753x^{62} + \\\\\n",
      "\t& 0.004349795034284969x^{63} + 0.0046074935705930535x^{64} + \\\\\n",
      "\t& 0.00450107293525209x^{65} + 0.004041276000697046x^{66} + \\\\\n",
      "\t& 0.004257030301563793x^{67} + 0.0038603605991454205x^{68} + \\\\\n",
      "\t& 0.004128905539391399x^{69} + 0.0038601681022140725x^{70} + \\\\\n",
      "\t& 0.004398775400153497x^{71} + 0.004513245826381013x^{72} + \\\\\n",
      "\t& 0.004456240212511404x^{73} + 0.003942960813290514x^{74} + \\\\\n",
      "\t& 0.004325617959709281x^{75} + 0.004753667866178174x^{76} + \\\\\n",
      "\t& 0.004595076490252546x^{77} + 0.004178427396946817x^{78} + \\\\\n",
      "\t& 0.004369799412497673x^{79} + 0.004721709414786436x^{80} + \\\\\n",
      "\t& 0.004430931452646389x^{81} + 0.004401652392508702x^{82} + \\\\\n",
      "\t& 0.0042236157081654594x^{83} + 0.004407965845972958x^{84} + \\\\\n",
      "\t& 0.0042162395008422384x^{85} + 0.004185684637168466x^{86} + \\\\\n",
      "\t& 0.004891726164790774x^{87} + 0.004443506298903833x^{88} + \\\\\n",
      "\t& 0.004208682724426527x^{89} + 0.004497803791764069x^{90} + \\\\\n",
      "\t& 0.004369997287504453x^{91} + 0.004501231699510005x^{92} + \\\\\n",
      "\t& 0.004414684656690996x^{93} + 0.004047562642896044x^{94} + \\\\\n",
      "\t& 0.004425474966231689x^{95} + 0.0040131718793244954x^{96} + \\\\\n",
      "\t& 0.004366462079302339x^{97} + 0.003960384242141611x^{98} + \\\\\n",
      "\t& 0.004097500472121656x^{99} + 0.004468028200124314x^{100}\n"
     ]
    }
   ],
   "source": [
    "equation = \"f(x) = {} & \"\n",
    "counter = 0\n",
    "for i,b in enumerate(model.b_list):\n",
    "    if counter == 2:\n",
    "        counter = 0\n",
    "        equation += \"\\\\\\\\\\n\\t& \"\n",
    "    equation += f\"{float_to_str(b)}x^{{{i+1}}}\"\n",
    "    if i < len(model.b_list) - 1:\n",
    "        equation += \" + \"\n",
    "    counter += 1\n",
    "print(equation)"
   ]
  },
  {
   "cell_type": "code",
   "execution_count": null,
   "metadata": {
    "colab": {
     "base_uri": "https://localhost:8080/",
     "height": 71
    },
    "colab_type": "code",
    "collapsed": true,
    "id": "RbzpAe9ug-O8",
    "jupyter": {
     "outputs_hidden": true
    },
    "outputId": "eb96b582-0c9b-4f70-91dd-a59b9a88c226"
   },
   "outputs": [
    {
     "name": "stdout",
     "output_type": "stream",
     "text": [
      "[0.02280762602348304, 0.38674067122701355, 1.3170910247312021e-17, 2.1576811072506523e-16, 5.199681764172789e-08, 0.030292900425790255, 0.26579211490487914, 0.013888048728293042, 1.9189444125143883e-05, 1.521875572802927e-08, 1.7847751932584996e-11, 8.539228649772306e-13, 7.164281833511482e-15, 1.1201989261182644e-12, 3.781216157631011e-12, 4.4414137920948904e-11, 7.380273246178701e-11, 1.1888410026345188e-08, 1.6890545633344755e-07, 1.6126363658484024e-08, 6.44863983916205e-06, 9.708931610809931e-05, 0.00014029131086793376, 0.001957116291767684, 0.0062297183822945515, 0.0061111198752881735, 0.010412823068695018, 0.017681019530622333, 0.013884664994109576, 0.06754380706965617, 0.04733745279938467, 0.03668620599141435, 0.013727964160670791, 0.0237265996692959, 0.018406398360357547, 0.00517710352083888, 0.005756870200215155, 0.0017398008617261936, 0.0005638869553005879, 0.0010629414881281618, 0.0007976537013856074, 0.0006205220548759612, 0.0001424072639363925, 0.000291455436699568, 8.858443553734198e-05, 0.0001041925260075456, 4.8861868766647535e-05, 6.186860350851722e-05, 7.667748212396673e-06, 6.962591466407786e-06, 3.1018003479924374e-06, 7.536722819929979e-06, 7.492435254560691e-06, 8.191033347681431e-06, 1.833354752676229e-06, 3.7521437336277524e-06, 1.3409632041842003e-06, 2.710610493774158e-06, 5.918816233262598e-07, 5.585788806568205e-07, 8.762994931168895e-07, 2.452088974342846e-07, 4.0606072325473743e-07, 3.47961394130026e-07, 1.1748722619037053e-08, 6.795589482466227e-08, 6.106529964803703e-08, 1.0226315685444785e-07, 4.9522884349321426e-08, 9.312515804460961e-08, 1.176998144413979e-07, 2.7477010465912737e-08, 3.189971056080412e-08, 3.4304260432344275e-08, 5.8464906495336904e-08, 4.391303427387544e-08, 1.6239797943382882e-08, 3.572900786325911e-08, 7.936341773511699e-09, 1.1898455449080106e-08, 2.1089350412390263e-08, 7.2136946366594515e-09, 6.258892969812228e-09, 5.196008336286656e-11, 5.275081185932265e-09, 3.2807565029082867e-09, 7.237932244747393e-09, 6.0795838818671325e-09, 4.1476552841960314e-09, 1.8001748807744034e-09, 8.406354064432617e-10, 4.758126001481175e-10, 1.623421686929283e-10, 1.2144849758050615e-09, 1.6590743466027292e-09, 1.1746460528632855e-09, 4.2728008523129135e-10, 6.220802156583542e-10, 6.975703718285104e-10, 1.7734823090965216e-10]\n",
      "100\n"
     ]
    }
   ],
   "source": [
    "values = []\n",
    "for i,letter in enumerate(equation):\n",
    "    if equation[i-1] in ['~','+'] and letter == ' ':\n",
    "        start = i + 1\n",
    "    if letter == 'x':\n",
    "        end = i\n",
    "        values.append(float(equation[start:end]))\n",
    "print(values)\n",
    "print(len(values))"
   ]
  },
  {
   "cell_type": "code",
   "execution_count": null,
   "metadata": {
    "colab": {},
    "colab_type": "code",
    "id": "E2BR3vDviEsO"
   },
   "outputs": [],
   "source": [
    "model.b_list = values"
   ]
  },
  {
   "cell_type": "code",
   "execution_count": null,
   "metadata": {
    "colab": {
     "base_uri": "https://localhost:8080/",
     "height": 68
    },
    "colab_type": "code",
    "id": "i5_MnzZ1mxub",
    "outputId": "c49c7874-555c-48e0-9012-c4d7c20d94b3"
   },
   "outputs": [],
   "source": [
    "k = 10 ** 0\n",
    "recs = []\n",
    "def calc_rec(n):\n",
    "    global k\n",
    "    return (1/k) * model.forward_pass([((n)/k) - (1/(2*k))])[0]\n",
    "\n",
    "def calc_chunks(n_list):\n",
    "    global k\n",
    "    area = 0\n",
    "    for n in tqdm(n_list):\n",
    "        area += (1/k) * model.forward_pass([((n)/k) - (1/(2*k))])[0]\n",
    "    return area\n",
    "        \n",
    "import math\n",
    "n = math.ceil(k/32)\n",
    "chunks = [range(1, k+1)[i * n:(i + 1) * n] for i in range((k + n - 1) // n )]\n",
    "        \n",
    "p = Pool(32)\n",
    "# for n in tqdm(range(1, k + 1)):\n",
    "#     recs.append(calc_rec(n))\n",
    "print(\"Starting pool...\")\n",
    "recs = p.map(calc_chunks, chunks)\n",
    "# recs = p.map(calc_rec, range(k - 1))"
   ]
  },
  {
   "cell_type": "code",
   "execution_count": 6,
   "metadata": {},
   "outputs": [
    {
     "name": "stdout",
     "output_type": "stream",
     "text": [
      "32\n",
      "\n",
      "0.18820576072038028\n"
     ]
    }
   ],
   "source": [
    "print(len(recs))\n",
    "area = sum(recs)\n",
    "print(\"\\n\" + str(area))"
   ]
  },
  {
   "cell_type": "code",
   "execution_count": null,
   "metadata": {},
   "outputs": [],
   "source": []
  },
  {
   "cell_type": "code",
   "execution_count": 36,
   "metadata": {},
   "outputs": [
    {
     "name": "stdout",
     "output_type": "stream",
     "text": [
      "[1, 10, 100, 1000, 10000, 100000, 1000000, 10000000]\n"
     ]
    },
    {
     "data": {
      "text/plain": [
       "[<matplotlib.lines.Line2D at 0x7f8f2bbed8b0>]"
      ]
     },
     "execution_count": 36,
     "metadata": {},
     "output_type": "execute_result"
    },
    {
     "data": {
      "image/png": "[encoded data removed]",
      "text/plain": [
       "<Figure size 432x288 with 1 Axes>"
      ]
     },
     "metadata": {
      "needs_background": "light"
     },
     "output_type": "display_data"
    }
   ],
   "source": [
    "areas_y = [0.11069342869419228,0.18413878550276258,0.1881572698868828,0.18820527485903313,0.1882057558616742,0.1882057606717955,0.18820576071989983,0.18820576072036385,0.18820576072038028]\n",
    "areas_x = [10**i for i in range(len(areas_y))]\n",
    "print(areas_x)\n",
    "plt.plot(areas_y)"
   ]
  },
  {
   "cell_type": "code",
   "execution_count": null,
   "metadata": {},
   "outputs": [],
   "source": []
  },
  {
   "cell_type": "code",
   "execution_count": 1,
   "metadata": {},
   "outputs": [
    {
     "name": "stdout",
     "output_type": "stream",
     "text": [
      "62.35884785592394\n"
     ]
    }
   ],
   "source": [
    "print(200*(0.5-0.18820576072038028))"
   ]
  },
  {
   "cell_type": "code",
   "execution_count": 8,
   "metadata": {
    "jupyter": {
     "source_hidden": true
    }
   },
   "outputs": [
    {
     "name": "stdout",
     "output_type": "stream",
     "text": [
      "0.10411620659512832\n"
     ]
    }
   ],
   "source": [
    "print(model.forward_pass([1.00])[0]-model.forward_pass([0.99])[0])"
   ]
  },
  {
   "cell_type": "code",
   "execution_count": null,
   "metadata": {},
   "outputs": [],
   "source": []
  }
 ],
 "metadata": {
  "colab": {
   "collapsed_sections": [],
   "name": "Lorenz Curve Regression.ipynb",
   "provenance": []
  },
  "kernelspec": {
   "display_name": "Python 3",
   "language": "python",
   "name": "python3"
  },
  "language_info": {
   "codemirror_mode": {
    "name": "ipython",
    "version": 3
   },
   "file_extension": ".py",
   "mimetype": "text/x-python",
   "name": "python",
   "nbconvert_exporter": "python",
   "pygments_lexer": "ipython3",
   "version": "3.8.2"
  }
 },
 "nbformat": 4,
 "nbformat_minor": 4
}
