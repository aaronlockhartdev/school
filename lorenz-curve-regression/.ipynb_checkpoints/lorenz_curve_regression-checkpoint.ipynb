{
 "cells": [
  {
   "cell_type": "raw",
   "metadata": {},
   "source": [
    "import sys\n",
    "!{sys.executable} -m pip install pathos"
   ]
  },
  {
   "cell_type": "raw",
   "metadata": {
    "colab": {},
    "colab_type": "code",
    "id": "_9XC3RyG2nKK"
   },
   "source": [
    "import matplotlib as mpl\n",
    "import matplotlib.pyplot as plt\n",
    "import numpy as np\n",
    "import pandas as pd\n",
    "import sklearn.metrics as mtrcs\n",
    "import random\n",
    "from pathos.multiprocessing import ProcessingPool as Pool\n",
    "from tqdm import trange, tqdm\n",
    "\n",
    "%matplotlib inline\n",
    "\n",
    "y_data = [0.006,0.02,0.042,0.072,0.11,0.162,0.232,0.332,0.494,1.0]\n",
    "x_data = [(x + 1)/10 for x in range(10)]\n",
    "\n",
    "LR = 0.05"
   ]
  },
  {
   "cell_type": "code",
   "execution_count": 2,
   "metadata": {
    "colab": {
     "base_uri": "https://localhost:8080/",
     "height": 282
    },
    "colab_type": "code",
    "id": "jCx8S2S34SvC",
    "outputId": "6cc38ae1-300b-4d4a-b329-a6f4624cca87"
   },
   "outputs": [
    {
     "data": {
      "text/plain": [
       "[<matplotlib.lines.Line2D at 0x7f8f56724250>]"
      ]
     },
     "execution_count": 2,
     "metadata": {},
     "output_type": "execute_result"
    },
    {
     "data": {
      "image/png": "[encoded data removed]",
      "text/plain": [
       "<Figure size 432x288 with 1 Axes>"
      ]
     },
     "metadata": {
      "needs_background": "light"
     },
     "output_type": "display_data"
    }
   ],
   "source": [
    "plt.plot(x_data, y_data)"
   ]
  },
  {
   "cell_type": "raw",
   "metadata": {
    "colab": {},
    "colab_type": "code",
    "id": "Q2Dyeclv4dgl"
   },
   "source": [
    "\n",
    "class Model():\n",
    "    def __init__(self):\n",
    "        self.hyper_n = 100\n",
    "        self.b_list = [random.random()/1000 for x in range(self.hyper_n)]\n",
    "        self.r2 = 0\n",
    "        self.loss = 0\n",
    "        self.results = []\n",
    "        self.p_forward = Pool()\n",
    "        self.p_backward = Pool()\n",
    "    def mse(self, y_data):\n",
    "        tmp = [(y_data[i] - o) ** 2 for i, o in enumerate(self.results)]\n",
    "        return sum(tmp) / len(tmp)\n",
    "    def forward_pass(self, x_data):\n",
    "        self.results = []\n",
    "        for x in x_data:\n",
    "            self.results.append(sum([(x ** (i + 1)) * b for i, b in enumerate(self.b_list)]))\n",
    "        return self.results\n",
    "    def backpropogate(self, x_data, y_data):\n",
    "        derivatives = [sum([2 * (i + 1) * b * (x ** i) * (self.results[j] - y_data[j]) for j, x in enumerate(x_data)]) for i, b in enumerate(self.b_list)]\n",
    "        for i, d in enumerate(derivatives):\n",
    "            self.b_list[i] -= d * LR\n",
    "        self.loss = self.mse(y_data)\n",
    "        self.r2 = mtrcs.r2_score(y_data, self.results)\n",
    "#     print(f'Backpropogation completed with loss of {self.loss} and r2 value of {self.r2}',end='\\r')\n",
    "    \n",
    "model = Model()"
   ]
  },
  {
   "cell_type": "code",
   "execution_count": 4,
   "metadata": {
    "colab": {},
    "colab_type": "code",
    "id": "jiveZCzamt7B"
   },
   "outputs": [],
   "source": [
    "saved_weights = [0.022794966887037086, 0.38679954206734235, 1.6575126186708116e-18, 3.6066554693488e-17, 2.4479375267259837e-08, 0.02782823664977261, 0.27125042362988144, 0.01077225931494082, 9.750376091849139e-06, 5.142880303569075e-09, 4.433254127050826e-12, 1.7702132231646362e-13, 1.3976413267562914e-15, 2.2668139385645383e-13, 8.513590517923411e-13, 1.1633053197689978e-11, 2.3013677517080675e-11, 4.4433604264814945e-09, 7.529400324246604e-08, 8.466100612901005e-09, 3.918819952774043e-06, 6.697873379528897e-05, 0.00010768806701366537, 0.001639321911346495, 0.005591439162073219, 0.0057811557829695595, 0.010231702883039342, 0.017817659542707233, 0.014194661800244035, 0.06941508431270643, 0.04853618994211445, 0.03729721505588394, 0.013770313634011865, 0.023390895549347746, 0.01778091267636387, 0.004889624207710503, 0.005307408986895678, 0.001563989188928049, 0.0004939463614832483, 0.0009070164749678498, 0.0006630121623332782, 0.0005025067469738745, 0.00011239377904453482, 0.000224289774650805, 6.650630737823924e-05, 7.63621638541099e-05, 3.498111668338758e-05, 4.329635245755705e-05, 5.248863915695327e-06, 4.665333614426717e-06, 2.0357894317044866e-06, 4.848349503049015e-06, 4.727178874921569e-06, 5.071651333852877e-06, 1.1146552630700468e-06, 2.241278003411255e-06, 7.873738683469111e-07, 1.5652784309974772e-06, 3.362939983325618e-07, 3.124030124936194e-07, 4.826185461744104e-07, 1.3303650589940566e-07, 2.1709998698656816e-07, 1.8338944116610392e-07, 6.10574102513269e-09, 3.483370700211073e-08, 3.088184065928292e-08, 5.103484537817617e-08, 2.4394241090211776e-08, 4.528658909729065e-08, 5.651713125780142e-08, 1.3030157710220207e-08, 1.494207679714811e-08, 1.5873729020409987e-08, 2.6729472451557187e-08, 1.9838353714176232e-08, 7.25033928178983e-09, 1.5765532452753986e-08, 3.4614556584581385e-09, 5.129996375128309e-09, 8.989011285385643e-09, 3.0399051747379453e-09, 2.6078464654583103e-09, 2.140734256989687e-11, 2.1490893338521948e-09, 1.3217631550655618e-09, 2.883822437720924e-09, 2.39563433530812e-09, 1.616436794081185e-09, 6.938976995509723e-10, 3.204992789780701e-10, 1.7943480295174862e-10, 6.055710093721396e-11, 4.4812531227110805e-10, 6.055589831059936e-10, 4.241209520444789e-10, 1.5261439757579497e-10, 2.1980457920889383e-10, 2.4383304131119596e-10, 6.132699316745875e-11]\n",
    "model.b_list = saved_weights"
   ]
  },
  {
   "cell_type": "code",
   "execution_count": 41,
   "metadata": {
    "colab": {
     "base_uri": "https://localhost:8080/",
     "height": 358
    },
    "colab_type": "code",
    "id": "ySF1fm0D7bTF",
    "outputId": "578a8e1e-7de6-41d7-e962-15a854d0810a"
   },
   "outputs": [
    {
     "name": "stderr",
     "output_type": "stream",
     "text": [
      "r2 = 0.99999900001345087830:   0%|          | 729/1000000 [00:04<1:35:12, 174.92it/s]\n"
     ]
    },
    {
     "ename": "KeyboardInterrupt",
     "evalue": "",
     "output_type": "error",
     "traceback": [
      "\u001b[0;31m---------------------------------------------------------------------------\u001b[0m",
      "\u001b[0;31mKeyboardInterrupt\u001b[0m                         Traceback (most recent call last)",
      "\u001b[0;32m<ipython-input-41-d7ed2676efa7>\u001b[0m in \u001b[0;36m<module>\u001b[0;34m\u001b[0m\n\u001b[1;32m      2\u001b[0m \u001b[0;32mfor\u001b[0m \u001b[0mi\u001b[0m \u001b[0;32min\u001b[0m \u001b[0mpbar\u001b[0m\u001b[0;34m:\u001b[0m\u001b[0;34m\u001b[0m\u001b[0;34m\u001b[0m\u001b[0m\n\u001b[1;32m      3\u001b[0m     \u001b[0mpbar\u001b[0m\u001b[0;34m.\u001b[0m\u001b[0mset_description\u001b[0m\u001b[0;34m(\u001b[0m\u001b[0;34m\"r2 = {r2:.20f}\"\u001b[0m\u001b[0;34m.\u001b[0m\u001b[0mformat\u001b[0m\u001b[0;34m(\u001b[0m\u001b[0mr2\u001b[0m\u001b[0;34m=\u001b[0m\u001b[0mmodel\u001b[0m\u001b[0;34m.\u001b[0m\u001b[0mr2\u001b[0m\u001b[0;34m)\u001b[0m\u001b[0;34m)\u001b[0m\u001b[0;34m\u001b[0m\u001b[0;34m\u001b[0m\u001b[0m\n\u001b[0;32m----> 4\u001b[0;31m     \u001b[0mpbar\u001b[0m\u001b[0;34m.\u001b[0m\u001b[0mrefresh\u001b[0m\u001b[0;34m(\u001b[0m\u001b[0;34m)\u001b[0m\u001b[0;34m\u001b[0m\u001b[0;34m\u001b[0m\u001b[0m\n\u001b[0m\u001b[1;32m      5\u001b[0m     \u001b[0mmodel\u001b[0m\u001b[0;34m.\u001b[0m\u001b[0mforward_pass\u001b[0m\u001b[0;34m(\u001b[0m\u001b[0mx_data\u001b[0m\u001b[0;34m)\u001b[0m\u001b[0;34m\u001b[0m\u001b[0;34m\u001b[0m\u001b[0m\n\u001b[1;32m      6\u001b[0m     \u001b[0mmodel\u001b[0m\u001b[0;34m.\u001b[0m\u001b[0mbackpropogate\u001b[0m\u001b[0;34m(\u001b[0m\u001b[0mx_data\u001b[0m\u001b[0;34m,\u001b[0m \u001b[0my_data\u001b[0m\u001b[0;34m)\u001b[0m\u001b[0;34m\u001b[0m\u001b[0;34m\u001b[0m\u001b[0m\n",
      "\u001b[0;32m~/venv/lib/python3.8/site-packages/tqdm/std.py\u001b[0m in \u001b[0;36mrefresh\u001b[0;34m(self, nolock, lock_args)\u001b[0m\n\u001b[1;32m   1346\u001b[0m             \u001b[0;32melse\u001b[0m\u001b[0;34m:\u001b[0m\u001b[0;34m\u001b[0m\u001b[0;34m\u001b[0m\u001b[0m\n\u001b[1;32m   1347\u001b[0m                 \u001b[0mself\u001b[0m\u001b[0;34m.\u001b[0m\u001b[0m_lock\u001b[0m\u001b[0;34m.\u001b[0m\u001b[0macquire\u001b[0m\u001b[0;34m(\u001b[0m\u001b[0;34m)\u001b[0m\u001b[0;34m\u001b[0m\u001b[0;34m\u001b[0m\u001b[0m\n\u001b[0;32m-> 1348\u001b[0;31m         \u001b[0mself\u001b[0m\u001b[0;34m.\u001b[0m\u001b[0mdisplay\u001b[0m\u001b[0;34m(\u001b[0m\u001b[0;34m)\u001b[0m\u001b[0;34m\u001b[0m\u001b[0;34m\u001b[0m\u001b[0m\n\u001b[0m\u001b[1;32m   1349\u001b[0m         \u001b[0;32mif\u001b[0m \u001b[0;32mnot\u001b[0m \u001b[0mnolock\u001b[0m\u001b[0;34m:\u001b[0m\u001b[0;34m\u001b[0m\u001b[0;34m\u001b[0m\u001b[0m\n\u001b[1;32m   1350\u001b[0m             \u001b[0mself\u001b[0m\u001b[0;34m.\u001b[0m\u001b[0m_lock\u001b[0m\u001b[0;34m.\u001b[0m\u001b[0mrelease\u001b[0m\u001b[0;34m(\u001b[0m\u001b[0;34m)\u001b[0m\u001b[0;34m\u001b[0m\u001b[0;34m\u001b[0m\u001b[0m\n",
      "\u001b[0;32m~/venv/lib/python3.8/site-packages/tqdm/std.py\u001b[0m in \u001b[0;36mdisplay\u001b[0;34m(self, msg, pos)\u001b[0m\n\u001b[1;32m   1479\u001b[0m         \u001b[0;32mif\u001b[0m \u001b[0mpos\u001b[0m\u001b[0;34m:\u001b[0m\u001b[0;34m\u001b[0m\u001b[0;34m\u001b[0m\u001b[0m\n\u001b[1;32m   1480\u001b[0m             \u001b[0mself\u001b[0m\u001b[0;34m.\u001b[0m\u001b[0mmoveto\u001b[0m\u001b[0;34m(\u001b[0m\u001b[0mpos\u001b[0m\u001b[0;34m)\u001b[0m\u001b[0;34m\u001b[0m\u001b[0;34m\u001b[0m\u001b[0m\n\u001b[0;32m-> 1481\u001b[0;31m         \u001b[0mself\u001b[0m\u001b[0;34m.\u001b[0m\u001b[0msp\u001b[0m\u001b[0;34m(\u001b[0m\u001b[0mself\u001b[0m\u001b[0;34m.\u001b[0m\u001b[0m__repr__\u001b[0m\u001b[0;34m(\u001b[0m\u001b[0;34m)\u001b[0m \u001b[0;32mif\u001b[0m \u001b[0mmsg\u001b[0m \u001b[0;32mis\u001b[0m \u001b[0;32mNone\u001b[0m \u001b[0;32melse\u001b[0m \u001b[0mmsg\u001b[0m\u001b[0;34m)\u001b[0m\u001b[0;34m\u001b[0m\u001b[0;34m\u001b[0m\u001b[0m\n\u001b[0m\u001b[1;32m   1482\u001b[0m         \u001b[0;32mif\u001b[0m \u001b[0mpos\u001b[0m\u001b[0;34m:\u001b[0m\u001b[0;34m\u001b[0m\u001b[0;34m\u001b[0m\u001b[0m\n\u001b[1;32m   1483\u001b[0m             \u001b[0mself\u001b[0m\u001b[0;34m.\u001b[0m\u001b[0mmoveto\u001b[0m\u001b[0;34m(\u001b[0m\u001b[0;34m-\u001b[0m\u001b[0mpos\u001b[0m\u001b[0;34m)\u001b[0m\u001b[0;34m\u001b[0m\u001b[0;34m\u001b[0m\u001b[0m\n",
      "\u001b[0;32m~/venv/lib/python3.8/site-packages/tqdm/std.py\u001b[0m in \u001b[0;36mprint_status\u001b[0;34m(s)\u001b[0m\n\u001b[1;32m    302\u001b[0m         \u001b[0;32mdef\u001b[0m \u001b[0mprint_status\u001b[0m\u001b[0;34m(\u001b[0m\u001b[0ms\u001b[0m\u001b[0;34m)\u001b[0m\u001b[0;34m:\u001b[0m\u001b[0;34m\u001b[0m\u001b[0;34m\u001b[0m\u001b[0m\n\u001b[1;32m    303\u001b[0m             \u001b[0mlen_s\u001b[0m \u001b[0;34m=\u001b[0m \u001b[0mdisp_len\u001b[0m\u001b[0;34m(\u001b[0m\u001b[0ms\u001b[0m\u001b[0;34m)\u001b[0m\u001b[0;34m\u001b[0m\u001b[0;34m\u001b[0m\u001b[0m\n\u001b[0;32m--> 304\u001b[0;31m             \u001b[0mfp_write\u001b[0m\u001b[0;34m(\u001b[0m\u001b[0;34m'\\r'\u001b[0m \u001b[0;34m+\u001b[0m \u001b[0ms\u001b[0m \u001b[0;34m+\u001b[0m \u001b[0;34m(\u001b[0m\u001b[0;34m' '\u001b[0m \u001b[0;34m*\u001b[0m \u001b[0mmax\u001b[0m\u001b[0;34m(\u001b[0m\u001b[0mlast_len\u001b[0m\u001b[0;34m[\u001b[0m\u001b[0;36m0\u001b[0m\u001b[0;34m]\u001b[0m \u001b[0;34m-\u001b[0m \u001b[0mlen_s\u001b[0m\u001b[0;34m,\u001b[0m \u001b[0;36m0\u001b[0m\u001b[0;34m)\u001b[0m\u001b[0;34m)\u001b[0m\u001b[0;34m)\u001b[0m\u001b[0;34m\u001b[0m\u001b[0;34m\u001b[0m\u001b[0m\n\u001b[0m\u001b[1;32m    305\u001b[0m             \u001b[0mlast_len\u001b[0m\u001b[0;34m[\u001b[0m\u001b[0;36m0\u001b[0m\u001b[0;34m]\u001b[0m \u001b[0;34m=\u001b[0m \u001b[0mlen_s\u001b[0m\u001b[0;34m\u001b[0m\u001b[0;34m\u001b[0m\u001b[0m\n\u001b[1;32m    306\u001b[0m \u001b[0;34m\u001b[0m\u001b[0m\n",
      "\u001b[0;32m~/venv/lib/python3.8/site-packages/tqdm/std.py\u001b[0m in \u001b[0;36mfp_write\u001b[0;34m(s)\u001b[0m\n\u001b[1;32m    296\u001b[0m         \u001b[0;32mdef\u001b[0m \u001b[0mfp_write\u001b[0m\u001b[0;34m(\u001b[0m\u001b[0ms\u001b[0m\u001b[0;34m)\u001b[0m\u001b[0;34m:\u001b[0m\u001b[0;34m\u001b[0m\u001b[0;34m\u001b[0m\u001b[0m\n\u001b[1;32m    297\u001b[0m             \u001b[0mfp\u001b[0m\u001b[0;34m.\u001b[0m\u001b[0mwrite\u001b[0m\u001b[0;34m(\u001b[0m\u001b[0m_unicode\u001b[0m\u001b[0;34m(\u001b[0m\u001b[0ms\u001b[0m\u001b[0;34m)\u001b[0m\u001b[0;34m)\u001b[0m\u001b[0;34m\u001b[0m\u001b[0;34m\u001b[0m\u001b[0m\n\u001b[0;32m--> 298\u001b[0;31m             \u001b[0mfp_flush\u001b[0m\u001b[0;34m(\u001b[0m\u001b[0;34m)\u001b[0m\u001b[0;34m\u001b[0m\u001b[0;34m\u001b[0m\u001b[0m\n\u001b[0m\u001b[1;32m    299\u001b[0m \u001b[0;34m\u001b[0m\u001b[0m\n\u001b[1;32m    300\u001b[0m         \u001b[0mlast_len\u001b[0m \u001b[0;34m=\u001b[0m \u001b[0;34m[\u001b[0m\u001b[0;36m0\u001b[0m\u001b[0;34m]\u001b[0m\u001b[0;34m\u001b[0m\u001b[0;34m\u001b[0m\u001b[0m\n",
      "\u001b[0;32m~/venv/lib/python3.8/site-packages/ipykernel/iostream.py\u001b[0m in \u001b[0;36mflush\u001b[0;34m(self)\u001b[0m\n\u001b[1;32m    350\u001b[0m                 \u001b[0mself\u001b[0m\u001b[0;34m.\u001b[0m\u001b[0mpub_thread\u001b[0m\u001b[0;34m.\u001b[0m\u001b[0mschedule\u001b[0m\u001b[0;34m(\u001b[0m\u001b[0mevt\u001b[0m\u001b[0;34m.\u001b[0m\u001b[0mset\u001b[0m\u001b[0;34m)\u001b[0m\u001b[0;34m\u001b[0m\u001b[0;34m\u001b[0m\u001b[0m\n\u001b[1;32m    351\u001b[0m                 \u001b[0;31m# and give a timeout to avoid\u001b[0m\u001b[0;34m\u001b[0m\u001b[0;34m\u001b[0m\u001b[0;34m\u001b[0m\u001b[0m\n\u001b[0;32m--> 352\u001b[0;31m                 \u001b[0;32mif\u001b[0m \u001b[0;32mnot\u001b[0m \u001b[0mevt\u001b[0m\u001b[0;34m.\u001b[0m\u001b[0mwait\u001b[0m\u001b[0;34m(\u001b[0m\u001b[0mself\u001b[0m\u001b[0;34m.\u001b[0m\u001b[0mflush_timeout\u001b[0m\u001b[0;34m)\u001b[0m\u001b[0;34m:\u001b[0m\u001b[0;34m\u001b[0m\u001b[0;34m\u001b[0m\u001b[0m\n\u001b[0m\u001b[1;32m    353\u001b[0m                     \u001b[0;31m# write directly to __stderr__ instead of warning because\u001b[0m\u001b[0;34m\u001b[0m\u001b[0;34m\u001b[0m\u001b[0;34m\u001b[0m\u001b[0m\n\u001b[1;32m    354\u001b[0m                     \u001b[0;31m# if this is happening sys.stderr may be the problem.\u001b[0m\u001b[0;34m\u001b[0m\u001b[0;34m\u001b[0m\u001b[0;34m\u001b[0m\u001b[0m\n",
      "\u001b[0;32m/usr/lib/python3.8/threading.py\u001b[0m in \u001b[0;36mwait\u001b[0;34m(self, timeout)\u001b[0m\n\u001b[1;32m    556\u001b[0m             \u001b[0msignaled\u001b[0m \u001b[0;34m=\u001b[0m \u001b[0mself\u001b[0m\u001b[0;34m.\u001b[0m\u001b[0m_flag\u001b[0m\u001b[0;34m\u001b[0m\u001b[0;34m\u001b[0m\u001b[0m\n\u001b[1;32m    557\u001b[0m             \u001b[0;32mif\u001b[0m \u001b[0;32mnot\u001b[0m \u001b[0msignaled\u001b[0m\u001b[0;34m:\u001b[0m\u001b[0;34m\u001b[0m\u001b[0;34m\u001b[0m\u001b[0m\n\u001b[0;32m--> 558\u001b[0;31m                 \u001b[0msignaled\u001b[0m \u001b[0;34m=\u001b[0m \u001b[0mself\u001b[0m\u001b[0;34m.\u001b[0m\u001b[0m_cond\u001b[0m\u001b[0;34m.\u001b[0m\u001b[0mwait\u001b[0m\u001b[0;34m(\u001b[0m\u001b[0mtimeout\u001b[0m\u001b[0;34m)\u001b[0m\u001b[0;34m\u001b[0m\u001b[0;34m\u001b[0m\u001b[0m\n\u001b[0m\u001b[1;32m    559\u001b[0m             \u001b[0;32mreturn\u001b[0m \u001b[0msignaled\u001b[0m\u001b[0;34m\u001b[0m\u001b[0;34m\u001b[0m\u001b[0m\n\u001b[1;32m    560\u001b[0m \u001b[0;34m\u001b[0m\u001b[0m\n",
      "\u001b[0;32m/usr/lib/python3.8/threading.py\u001b[0m in \u001b[0;36mwait\u001b[0;34m(self, timeout)\u001b[0m\n\u001b[1;32m    304\u001b[0m             \u001b[0;32melse\u001b[0m\u001b[0;34m:\u001b[0m\u001b[0;34m\u001b[0m\u001b[0;34m\u001b[0m\u001b[0m\n\u001b[1;32m    305\u001b[0m                 \u001b[0;32mif\u001b[0m \u001b[0mtimeout\u001b[0m \u001b[0;34m>\u001b[0m \u001b[0;36m0\u001b[0m\u001b[0;34m:\u001b[0m\u001b[0;34m\u001b[0m\u001b[0;34m\u001b[0m\u001b[0m\n\u001b[0;32m--> 306\u001b[0;31m                     \u001b[0mgotit\u001b[0m \u001b[0;34m=\u001b[0m \u001b[0mwaiter\u001b[0m\u001b[0;34m.\u001b[0m\u001b[0macquire\u001b[0m\u001b[0;34m(\u001b[0m\u001b[0;32mTrue\u001b[0m\u001b[0;34m,\u001b[0m \u001b[0mtimeout\u001b[0m\u001b[0;34m)\u001b[0m\u001b[0;34m\u001b[0m\u001b[0;34m\u001b[0m\u001b[0m\n\u001b[0m\u001b[1;32m    307\u001b[0m                 \u001b[0;32melse\u001b[0m\u001b[0;34m:\u001b[0m\u001b[0;34m\u001b[0m\u001b[0;34m\u001b[0m\u001b[0m\n\u001b[1;32m    308\u001b[0m                     \u001b[0mgotit\u001b[0m \u001b[0;34m=\u001b[0m \u001b[0mwaiter\u001b[0m\u001b[0;34m.\u001b[0m\u001b[0macquire\u001b[0m\u001b[0;34m(\u001b[0m\u001b[0;32mFalse\u001b[0m\u001b[0;34m)\u001b[0m\u001b[0;34m\u001b[0m\u001b[0;34m\u001b[0m\u001b[0m\n",
      "\u001b[0;31mKeyboardInterrupt\u001b[0m: "
     ]
    }
   ],
   "source": [
    "pbar = trange(1000000, desc=\"r2 = {r2:.20f}\".format(r2=model.r2))\n",
    "for i in pbar:\n",
    "    pbar.set_description(\"r2 = {r2:.20f}\".format(r2=model.r2))\n",
    "    pbar.refresh()\n",
    "    model.forward_pass(x_data)\n",
    "    model.backpropogate(x_data, y_data)"
   ]
  },
  {
   "cell_type": "code",
   "execution_count": 25,
   "metadata": {
    "colab": {
     "base_uri": "https://localhost:8080/",
     "height": 54
    },
    "colab_type": "code",
    "id": "d55HnLQNLi8g",
    "outputId": "36d5e165-968b-409e-91d0-265d4a7cb356"
   },
   "outputs": [
    {
     "name": "stdout",
     "output_type": "stream",
     "text": [
      "[0.022794649515399102, 0.3868010061388677, 1.5704004706357653e-18, 3.4428239903921415e-17, 2.4007255659243092e-08, 0.027769109627138105, 0.27138007483663634, 0.01069899236673977, 9.57660544061132e-06, 4.99731595005551e-09, 4.273086186960551e-12, 1.6981868910543383e-13, 1.3386515476288305e-15, 2.1732532849213256e-13, 8.185208573143033e-13, 1.1228987066331655e-11, 2.2316516230634898e-11, 4.329345427424401e-09, 7.370296149790582e-08, 8.322951707875162e-09, 3.8674255307407385e-06, 6.632146220885366e-05, 0.00010693174114994583, 0.001631560026742158, 0.00557512559169482, 0.005772310872990533, 0.010226337053488157, 0.0178202974939171, 0.01420226192382587, 0.06946247284422127, 0.048566812719752585, 0.03731276211333136, 0.013771313609150296, 0.023382149017104576, 0.01776492634060902, 0.004882373794245815, 0.0052962183572044345, 0.0015596688838865431, 0.0004922505301366056, 0.0009032867542078638, 0.0006598351834527118, 0.0004997597430531722, 0.00011170453899776354, 0.00022276778660069982, 6.601252530401841e-05, 7.574767076374582e-05, 3.467845050234373e-05, 4.2896312396542476e-05, 5.197378810753595e-06, 4.617000489622595e-06, 2.0136122770742264e-06, 4.793029665854814e-06, 4.670878880510813e-06, 5.008794420491363e-06, 1.1003179426630302e-06, 2.211430942862506e-06, 7.765413040775203e-07, 1.543073498691348e-06, 3.31383419395285e-07, 3.0771479928563607e-07, 4.751855595391679e-07, 1.3093638558154042e-07, 2.1359129320376058e-07, 1.8035822856155461e-07, 6.0026260710082435e-09, 3.4233162373863076e-08, 3.0338759605239085e-08, 5.012004409970485e-08, 2.3948836803889148e-08, 4.444485325128983e-08, 5.544837547772051e-08, 1.2779597476331408e-08, 1.4650047409888526e-08, 1.5558553780392578e-08, 2.6190533718233553e-08, 1.943232058886461e-08, 7.099760644804783e-09, 1.5433396720348258e-08, 3.3875070845501583e-09, 5.0188941214395995e-09, 8.791709497487583e-09, 2.9723002972565127e-09, 2.5490987457543684e-09, 2.0918959286449735e-11, 2.0994478219318378e-09, 1.2908569905900148e-09, 2.8155769521052906e-09, 2.3382680034880687e-09, 1.5772763618705501e-09, 6.768933114891667e-10, 3.1255604559702574e-10, 1.74937909664704e-10, 5.902269474252194e-11, 4.366469363060545e-10, 5.898813003010093e-10, 4.1302407951774855e-10, 1.485794777601202e-10, 2.139330705595106e-10, 2.3725304048389206e-10, 5.965530969576134e-11]\n"
     ]
    }
   ],
   "source": [
    "print(model.b_list)"
   ]
  },
  {
   "cell_type": "code",
   "execution_count": 43,
   "metadata": {
    "colab": {},
    "colab_type": "code",
    "id": "RCnMrk7Gp6X5"
   },
   "outputs": [],
   "source": [
    "import decimal\n",
    "\n",
    "# create a new context for this task\n",
    "ctx = decimal.Context()\n",
    "\n",
    "# 20 digits should be enough for everyone :D\n",
    "ctx.prec = 100\n",
    "\n",
    "def float_to_str(f):\n",
    "    \"\"\"\n",
    "    Convert the given float to a string,\n",
    "    without resorting to scientific notation\n",
    "    \"\"\"\n",
    "    d1 = ctx.create_decimal(repr(f))\n",
    "    return format(d1, 'f')"
   ]
  },
  {
   "cell_type": "code",
   "execution_count": 51,
   "metadata": {
    "colab": {
     "base_uri": "https://localhost:8080/",
     "height": 54
    },
    "colab_type": "code",
    "id": "-2-AZ_w2h4vF",
    "outputId": "614a1d07-dd4b-4c20-ccf1-c1ee85978ab2",
    "scrolled": true
   },
   "outputs": [
    {
     "name": "stdout",
     "output_type": "stream",
     "text": [
      "f(x) = {} & 0.022794955306425398x^{1} + 0.38679959550036713x^{2} + \\\\\n",
      "\t& 0.0000000000000000016542537026404765x^{3} + 0.00000000000000003600548004023237x^{4} + \\\\\n",
      "\t& 0.00000002446199909996122x^{5} + 0.02782607682330898x^{6} + \\\\\n",
      "\t& 0.2712551607981748x^{7} + 0.010769581601937292x^{8} + \\\\\n",
      "\t& 0.000009743989370986455x^{9} + 0.0000000051375021937523904x^{10} + \\\\\n",
      "\t& 0.00000000000442731326162326x^{11} + 0.00000000000017675355359762112x^{12} + \\\\\n",
      "\t& 0.0000000000000013954466072327632x^{13} + 0.0000000000002263334612471385x^{14} + \\\\\n",
      "\t& 0.0000000000008501395121695389x^{15} + 0.000000000011618075716721506x^{16} + \\\\\n",
      "\t& 0.000000000022987892910078712x^{17} + 0.000000004439153251956138x^{18} + \\\\\n",
      "\t& 0.0000000752354251506725x^{19} + 0.000000008460841261502329x^{20} + \\\\\n",
      "\t& 0.0000039169352621736x^{21} + 0.00006695467086600826x^{22} + \\\\\n",
      "\t& 0.00010766041728285037x^{23} + 0.0016390385017250617x^{24} + \\\\\n",
      "\t& 0.005590844157040422x^{25} + 0.005780833551720046x^{26} + \\\\\n",
      "\t& 0.010231507843583511x^{27} + 0.017817756533686453x^{28} + \\\\\n",
      "\t& 0.014194939287142867x^{29} + 0.06941681304479091x^{30} + \\\\\n",
      "\t& 0.04853730679366564x^{31} + 0.03729778211099124x^{32} + \\\\\n",
      "\t& 0.013770350162369507x^{33} + 0.023390576666549544x^{34} + \\\\\n",
      "\t& 0.01778032960458298x^{35} + 0.004889359681685595x^{36} + \\\\\n",
      "\t& 0.005307000581417123x^{37} + 0.0015638314691259932x^{38} + \\\\\n",
      "\t& 0.0004938844327432596x^{39} + 0.0009068802284465359x^{40} + \\\\\n",
      "\t& 0.0006628960700344589x^{41} + 0.0005024063344958135x^{42} + \\\\\n",
      "\t& 0.00011236857694786548x^{43} + 0.00022423410571515285x^{44} + \\\\\n",
      "\t& 0.0000664882410573359x^{45} + 0.00007633967429316693x^{46} + \\\\\n",
      "\t& 0.00003497003631901107x^{47} + 0.00004328170317840171x^{48} + \\\\\n",
      "\t& 0.000005246978038612819x^{49} + 0.000004663562722542671x^{50} + \\\\\n",
      "\t& 0.000002034976667028093x^{51} + 0.0000048463215951636325x^{52} + \\\\\n",
      "\t& 0.000004725114537707844x^{53} + 0.000005069346035943947x^{54} + \\\\\n",
      "\t& 0.0000011141293177272606x^{55} + 0.000002240182862853657x^{56} + \\\\\n",
      "\t& 0.0000007869763177052161x^{57} + 0.0000015644633497515968x^{58} + \\\\\n",
      "\t& 0.0000003361137082075208x^{59} + 0.0000003122308525614935x^{60} + \\\\\n",
      "\t& 0.0000004823455406679392x^{61} + 0.00000013295935632330757x^{62} + \\\\\n",
      "\t& 0.00000021697106877446234x^{63} + 0.00000018327804688294552x^{64} + \\\\\n",
      "\t& 0.000000006101950981222926x^{65} + 0.00000003481162987981088x^{66} + \\\\\n",
      "\t& 0.00000003086187263786795x^{67} + 0.00000005100120436472654x^{68} + \\\\\n",
      "\t& 0.00000002437785907043347x^{69} + 0.00000004525562499212567x^{70} + \\\\\n",
      "\t& 0.00000005647780977897551x^{71} + 0.000000013020937703381013x^{72} + \\\\\n",
      "\t& 0.000000014931329171372333x^{73} + 0.000000015862127786815245x^{74} + \\\\\n",
      "\t& 0.000000026709631757564663x^{75} + 0.0000000198234036295673x^{76} + \\\\\n",
      "\t& 0.000000007244794178199734x^{77} + 0.00000001575329966430018x^{78} + \\\\\n",
      "\t& 0.0000000034587316859506738x^{79} + 0.000000005125903218428899x^{80} + \\\\\n",
      "\t& 0.000000008981741381303722x^{81} + 0.000000003037413809183403x^{82} + \\\\\n",
      "\t& 0.0000000026056811965194957x^{83} + 0.000000000021389339660347275x^{84} + \\\\\n",
      "\t& 0.0000000021472591796400953x^{85} + 0.000000001320623565936365x^{86} + \\\\\n",
      "\t& 0.0000000028813057034479214x^{87} + 0.0000000023935185064624207x^{88} + \\\\\n",
      "\t& 0.0000000016149922502079666x^{89} + 0.0000000006932703582474362x^{90} + \\\\\n",
      "\t& 0.0000000003202061898998201x^{91} + 0.0000000001792688541310176x^{92} + \\\\\n",
      "\t& 0.00000000006050046904651636x^{93} + 0.00000000044770161061855046x^{94} + \\\\\n",
      "\t& 0.0000000006049801938552947x^{95} + 0.00000000042371122187912707x^{96} + \\\\\n",
      "\t& 0.0000000001524653959847589x^{97} + 0.0000000002195877267936649x^{98} + \\\\\n",
      "\t& 0.00000000024358998943268566x^{99} + 0.00000000006126523626871145x^{100}\n"
     ]
    }
   ],
   "source": [
    "equation = \"f(x) = {} & \"\n",
    "counter = 0\n",
    "for i,b in enumerate(model.b_list):\n",
    "    if counter == 2:\n",
    "        counter = 0\n",
    "        equation += \"\\\\\\\\\\n\\t& \"\n",
    "    equation += f\"{float_to_str(b)}x^{{{i+1}}}\"\n",
    "    if i < len(model.b_list) - 1:\n",
    "        equation += \" + \"\n",
    "    counter += 1\n",
    "print(equation)"
   ]
  },
  {
   "cell_type": "code",
   "execution_count": null,
   "metadata": {
    "colab": {
     "base_uri": "https://localhost:8080/",
     "height": 71
    },
    "colab_type": "code",
    "id": "RbzpAe9ug-O8",
    "outputId": "eb96b582-0c9b-4f70-91dd-a59b9a88c226"
   },
   "outputs": [
    {
     "name": "stdout",
     "output_type": "stream",
     "text": [
      "[0.02280762602348304, 0.38674067122701355, 1.3170910247312021e-17, 2.1576811072506523e-16, 5.199681764172789e-08, 0.030292900425790255, 0.26579211490487914, 0.013888048728293042, 1.9189444125143883e-05, 1.521875572802927e-08, 1.7847751932584996e-11, 8.539228649772306e-13, 7.164281833511482e-15, 1.1201989261182644e-12, 3.781216157631011e-12, 4.4414137920948904e-11, 7.380273246178701e-11, 1.1888410026345188e-08, 1.6890545633344755e-07, 1.6126363658484024e-08, 6.44863983916205e-06, 9.708931610809931e-05, 0.00014029131086793376, 0.001957116291767684, 0.0062297183822945515, 0.0061111198752881735, 0.010412823068695018, 0.017681019530622333, 0.013884664994109576, 0.06754380706965617, 0.04733745279938467, 0.03668620599141435, 0.013727964160670791, 0.0237265996692959, 0.018406398360357547, 0.00517710352083888, 0.005756870200215155, 0.0017398008617261936, 0.0005638869553005879, 0.0010629414881281618, 0.0007976537013856074, 0.0006205220548759612, 0.0001424072639363925, 0.000291455436699568, 8.858443553734198e-05, 0.0001041925260075456, 4.8861868766647535e-05, 6.186860350851722e-05, 7.667748212396673e-06, 6.962591466407786e-06, 3.1018003479924374e-06, 7.536722819929979e-06, 7.492435254560691e-06, 8.191033347681431e-06, 1.833354752676229e-06, 3.7521437336277524e-06, 1.3409632041842003e-06, 2.710610493774158e-06, 5.918816233262598e-07, 5.585788806568205e-07, 8.762994931168895e-07, 2.452088974342846e-07, 4.0606072325473743e-07, 3.47961394130026e-07, 1.1748722619037053e-08, 6.795589482466227e-08, 6.106529964803703e-08, 1.0226315685444785e-07, 4.9522884349321426e-08, 9.312515804460961e-08, 1.176998144413979e-07, 2.7477010465912737e-08, 3.189971056080412e-08, 3.4304260432344275e-08, 5.8464906495336904e-08, 4.391303427387544e-08, 1.6239797943382882e-08, 3.572900786325911e-08, 7.936341773511699e-09, 1.1898455449080106e-08, 2.1089350412390263e-08, 7.2136946366594515e-09, 6.258892969812228e-09, 5.196008336286656e-11, 5.275081185932265e-09, 3.2807565029082867e-09, 7.237932244747393e-09, 6.0795838818671325e-09, 4.1476552841960314e-09, 1.8001748807744034e-09, 8.406354064432617e-10, 4.758126001481175e-10, 1.623421686929283e-10, 1.2144849758050615e-09, 1.6590743466027292e-09, 1.1746460528632855e-09, 4.2728008523129135e-10, 6.220802156583542e-10, 6.975703718285104e-10, 1.7734823090965216e-10]\n",
      "100\n"
     ]
    }
   ],
   "source": [
    "values = []\n",
    "for i,letter in enumerate(equation):\n",
    "    if equation[i-1] in ['~','+'] and letter == ' ':\n",
    "        start = i + 1\n",
    "    if letter == 'x':\n",
    "        end = i\n",
    "        values.append(float(equation[start:end]))\n",
    "print(values)\n",
    "print(len(values))"
   ]
  },
  {
   "cell_type": "code",
   "execution_count": null,
   "metadata": {
    "colab": {},
    "colab_type": "code",
    "id": "E2BR3vDviEsO"
   },
   "outputs": [],
   "source": [
    "model.b_list = values"
   ]
  },
  {
   "cell_type": "code",
   "execution_count": 40,
   "metadata": {
    "colab": {
     "base_uri": "https://localhost:8080/",
     "height": 68
    },
    "colab_type": "code",
    "id": "i5_MnzZ1mxub",
    "outputId": "c49c7874-555c-48e0-9012-c4d7c20d94b3"
   },
   "outputs": [
    {
     "name": "stderr",
     "output_type": "stream",
     "text": [
      "100%|██████████| 10000/10000 [00:00<00:00, 24711.10it/s]"
     ]
    },
    {
     "name": "stdout",
     "output_type": "stream",
     "text": [
      "10000\n",
      "\n",
      "0.1882057558616742\n"
     ]
    },
    {
     "name": "stderr",
     "output_type": "stream",
     "text": [
      "\n"
     ]
    }
   ],
   "source": [
    "k = 10 ** 4\n",
    "recs = []\n",
    "def calc_rec(n):\n",
    "    global k\n",
    "    return (1/k) * model.forward_pass([((n)/k) - (1/(2*k))])[0]\n",
    "p = Pool(24)\n",
    "for n in tqdm(range(1, k + 1)):\n",
    "    recs.append(calc_rec(n))\n",
    "# recs = p.map(calc_rec, range(k - 1))\n",
    "print(len(recs))\n",
    "area = sum(recs)\n",
    "print(\"\\n\" + str(area))"
   ]
  },
  {
   "cell_type": "markdown",
   "metadata": {
    "colab_type": "text",
    "id": "rORxfcHTsEo1"
   },
   "source": []
  },
  {
   "cell_type": "code",
   "execution_count": 36,
   "metadata": {},
   "outputs": [
    {
     "name": "stdout",
     "output_type": "stream",
     "text": [
      "[1, 10, 100, 1000, 10000, 100000, 1000000, 10000000]\n"
     ]
    },
    {
     "data": {
      "text/plain": [
       "[<matplotlib.lines.Line2D at 0x7f8f2bbed8b0>]"
      ]
     },
     "execution_count": 36,
     "metadata": {},
     "output_type": "execute_result"
    },
    {
     "data": {
      "image/png": "[encoded data removed]",
      "text/plain": [
       "<Figure size 432x288 with 1 Axes>"
      ]
     },
     "metadata": {
      "needs_background": "light"
     },
     "output_type": "display_data"
    }
   ],
   "source": [
    "areas_y = [0.11069342869419228,0.18413878550276258,0.1881572698868828,0.18820527485903313,0.1882057558616742,0.1882057606717955,0.18820576071989983,0.18820576072036385]\n",
    "areas_x = [10**i for i in range(len(areas_y))]\n",
    "print(areas_x)\n",
    "plt.plot(areas_y)"
   ]
  },
  {
   "cell_type": "code",
   "execution_count": null,
   "metadata": {},
   "outputs": [],
   "source": []
  }
 ],
 "metadata": {
  "colab": {
   "collapsed_sections": [],
   "name": "Lorenz Curve Regression.ipynb",
   "provenance": []
  },
  "kernelspec": {
   "display_name": "Python 3",
   "language": "python",
   "name": "python3"
  },
  "language_info": {
   "codemirror_mode": {
    "name": "ipython",
    "version": 3
   },
   "file_extension": ".py",
   "mimetype": "text/x-python",
   "name": "python",
   "nbconvert_exporter": "python",
   "pygments_lexer": "ipython3",
   "version": "3.8.2"
  }
 },
 "nbformat": 4,
 "nbformat_minor": 4
}
