{
 "cells": [
  {
   "cell_type": "raw",
   "metadata": {},
   "source": [
    "import sys\n",
    "!{sys.executable} -m pip install pathos"
   ]
  },
  {
   "cell_type": "code",
   "execution_count": 1,
   "metadata": {
    "colab": {},
    "colab_type": "code",
    "id": "_9XC3RyG2nKK"
   },
   "outputs": [],
   "source": [
    "import matplotlib as mpl\n",
    "import matplotlib.pyplot as plt\n",
    "import numpy as np\n",
    "import pandas as pd\n",
    "import sklearn.metrics as mtrcs\n",
    "import random\n",
    "from multiprocessing import Pool\n",
    "from tqdm import trange, tqdm\n",
    "\n",
    "%matplotlib inline\n",
    "\n",
    "y_data = [0.006,0.02,0.042,0.072,0.11,0.162,0.232,0.332,0.494,1.0]\n",
    "x_data = [(x + 1)/10 for x in range(10)]\n",
    "\n",
    "LR = 0.005"
   ]
  },
  {
   "cell_type": "code",
   "execution_count": 3,
   "metadata": {
    "colab": {
     "base_uri": "https://localhost:8080/",
     "height": 282
    },
    "colab_type": "code",
    "id": "jCx8S2S34SvC",
    "outputId": "6cc38ae1-300b-4d4a-b329-a6f4624cca87"
   },
   "outputs": [
    {
     "data": {
      "text/plain": [
       "[<matplotlib.lines.Line2D at 0x7f18e7f3e610>]"
      ]
     },
     "execution_count": 3,
     "metadata": {},
     "output_type": "execute_result"
    },
    {
     "data": {
      "image/png": "[encoded data removed]",
      "text/plain": [
       "<Figure size 432x288 with 1 Axes>"
      ]
     },
     "metadata": {
      "needs_background": "light"
     },
     "output_type": "display_data"
    }
   ],
   "source": [
    "plt.plot(x_data, y_data)"
   ]
  },
  {
   "cell_type": "code",
   "execution_count": 9,
   "metadata": {
    "colab": {},
    "colab_type": "code",
    "id": "Q2Dyeclv4dgl"
   },
   "outputs": [],
   "source": [
    "class Model():\n",
    "    def __init__(self):\n",
    "        self.hyper_n = 100\n",
    "        self.b_list = [random.random()/1000 for x in range(self.hyper_n)]\n",
    "        self.r2 = 0\n",
    "        self.loss = 0\n",
    "        self.results = []\n",
    "#         self.p_forward = Pool()\n",
    "#         self.p_backward = Pool()\n",
    "    def mse(self, y_data):\n",
    "        tmp = [(y_data[i] - o) ** 2 for i, o in enumerate(self.results)]\n",
    "        return sum(tmp) / len(tmp)\n",
    "    def forward_pass(self, x_data):\n",
    "        self.results = []\n",
    "        for x in x_data:\n",
    "            self.results.append(sum([(x ** (i + 1)) * b for i, b in enumerate(self.b_list)]))\n",
    "        return self.results\n",
    "    def backpropogate(self, x_data, y_data):\n",
    "#         derivatives = [sum([2 * (i + 1) * b * (x ** i) * (self.results[j] - y_data[j]) for j, x in enumerate(x_data)]) for i, b in enumerate(self.b_list)]\n",
    "        derivatives = [sum([2 * (x ** i) * (self.results[j] - y_data[j]) for j, x in enumerate(x_data)]) for i, b in enumerate(self.b_list)]\n",
    "        for i, d in enumerate(derivatives):\n",
    "            self.b_list[i] -= d * LR\n",
    "        self.loss = self.mse(y_data)\n",
    "        self.r2 = mtrcs.r2_score(y_data, self.results)\n",
    "#     print(f'Backpropogation completed with loss of {self.loss} and r2 value of {self.r2}',end='\\r')\n",
    "    \n",
    "model = Model()"
   ]
  },
  {
   "cell_type": "code",
   "execution_count": 10,
   "metadata": {
    "colab": {},
    "colab_type": "code",
    "id": "jiveZCzamt7B"
   },
   "outputs": [],
   "source": [
    "saved_weights = [0.022794966887037086, 0.38679954206734235, 1.6575126186708116e-18, 3.6066554693488e-17, 2.4479375267259837e-08, 0.02782823664977261, 0.27125042362988144, 0.01077225931494082, 9.750376091849139e-06, 5.142880303569075e-09, 4.433254127050826e-12, 1.7702132231646362e-13, 1.3976413267562914e-15, 2.2668139385645383e-13, 8.513590517923411e-13, 1.1633053197689978e-11, 2.3013677517080675e-11, 4.4433604264814945e-09, 7.529400324246604e-08, 8.466100612901005e-09, 3.918819952774043e-06, 6.697873379528897e-05, 0.00010768806701366537, 0.001639321911346495, 0.005591439162073219, 0.0057811557829695595, 0.010231702883039342, 0.017817659542707233, 0.014194661800244035, 0.06941508431270643, 0.04853618994211445, 0.03729721505588394, 0.013770313634011865, 0.023390895549347746, 0.01778091267636387, 0.004889624207710503, 0.005307408986895678, 0.001563989188928049, 0.0004939463614832483, 0.0009070164749678498, 0.0006630121623332782, 0.0005025067469738745, 0.00011239377904453482, 0.000224289774650805, 6.650630737823924e-05, 7.63621638541099e-05, 3.498111668338758e-05, 4.329635245755705e-05, 5.248863915695327e-06, 4.665333614426717e-06, 2.0357894317044866e-06, 4.848349503049015e-06, 4.727178874921569e-06, 5.071651333852877e-06, 1.1146552630700468e-06, 2.241278003411255e-06, 7.873738683469111e-07, 1.5652784309974772e-06, 3.362939983325618e-07, 3.124030124936194e-07, 4.826185461744104e-07, 1.3303650589940566e-07, 2.1709998698656816e-07, 1.8338944116610392e-07, 6.10574102513269e-09, 3.483370700211073e-08, 3.088184065928292e-08, 5.103484537817617e-08, 2.4394241090211776e-08, 4.528658909729065e-08, 5.651713125780142e-08, 1.3030157710220207e-08, 1.494207679714811e-08, 1.5873729020409987e-08, 2.6729472451557187e-08, 1.9838353714176232e-08, 7.25033928178983e-09, 1.5765532452753986e-08, 3.4614556584581385e-09, 5.129996375128309e-09, 8.989011285385643e-09, 3.0399051747379453e-09, 2.6078464654583103e-09, 2.140734256989687e-11, 2.1490893338521948e-09, 1.3217631550655618e-09, 2.883822437720924e-09, 2.39563433530812e-09, 1.616436794081185e-09, 6.938976995509723e-10, 3.204992789780701e-10, 1.7943480295174862e-10, 6.055710093721396e-11, 4.4812531227110805e-10, 6.055589831059936e-10, 4.241209520444789e-10, 1.5261439757579497e-10, 2.1980457920889383e-10, 2.4383304131119596e-10, 6.132699316745875e-11]\n",
    "saved_weights1 = [0.023070146795452967, 0.38379157735693203, 0.006718516404288282, -0.014378094737395252, 0.0404150244199437, 0.07261800057079389, 0.07594984378475837, 0.0634946932360781, 0.04639775878074085, 0.03010460819645215, 0.017045245130772126, 0.008407974839608982, 0.0026127399641891753, -0.00012546005458850826, -0.0015691332930907697, -0.001543912567557937, -0.0009506542279917797, -1.3183741421605997e-05, 0.0008343558006450839, 0.0019698656345813652, 0.0022766515638419555, 0.0032497946968075165, 0.0034185264499576014, 0.004309752836550532, 0.0045864045135181695, 0.00431031596206271, 0.00481576608743918, 0.005072907732098591, 0.005093618524188072, 0.00522658516575205, 0.004873486329585498, 0.005030344697562063, 0.004572072644839283, 0.004597117888375854, 0.00475024387687907, 0.004173380897139006, 0.00364126632832702, 0.003775782651918894, 0.00389297092517302, 0.0037876920800783, 0.0031792592182581076, 0.0037374367065063103, 0.0034380747829506134, 0.0035177879807289578, 0.003292386561403994, 0.003216910854695308, 0.0034082520240216476, 0.0030184134991921912, 0.002950566804529379, 0.002783719713551719, 0.00314347444036744, 0.00243369886216867, 0.0027202064385495575, 0.0024924390562646994, 0.002990034441976428, 0.002752173266819494, 0.0030939706791007337, 0.002553370733826875, 0.0027197839317981394, 0.0024336945529237013, 0.0029004559593328308, 0.0021966422710447873, 0.002792207415237001, 0.00301275666553339, 0.002872856210577249, 0.002382891060191778, 0.002571464858380511, 0.002150309412685008, 0.0023967985484026066, 0.0021081959766659445, 0.0026289127237009505, 0.00272727210928413, 0.002655758922277447, 0.0021294165975018703, 0.002500312222797719, 0.0029177728495183887, 0.002749647993064047, 0.002324416264161038, 0.0025080619050958184, 0.002853016568109954, 0.002555977518886928, 0.002521062454958232, 0.0023379525468501024, 0.002517736126973153, 0.002321899354880264, 0.0022876446868965667, 0.002990356054599913, 0.0025391387759514496, 0.002301617314917596, 0.002588310112296953, 0.0024583180274272, 0.002587585306765031, 0.002499267756448978, 0.00213055221543022, 0.00250703030788309, 0.002093436368075152, 0.002445564764358615, 0.00203844127500435, 0.002174616394916026, 0.0025442971053820165]\n",
    "model.b_list = saved_weights1"
   ]
  },
  {
   "cell_type": "code",
   "execution_count": 11,
   "metadata": {
    "colab": {
     "base_uri": "https://localhost:8080/",
     "height": 358
    },
    "colab_type": "code",
    "id": "ySF1fm0D7bTF",
    "outputId": "578a8e1e-7de6-41d7-e962-15a854d0810a"
   },
   "outputs": [
    {
     "name": "stderr",
     "output_type": "stream",
     "text": [
      "r2 = 0.99999856846640911012:   0%|          | 514/1000000 [00:01<48:51, 340.89it/s]\n"
     ]
    },
    {
     "ename": "KeyboardInterrupt",
     "evalue": "",
     "output_type": "error",
     "traceback": [
      "\u001b[0;31m---------------------------------------------------------------------------\u001b[0m",
      "\u001b[0;31mKeyboardInterrupt\u001b[0m                         Traceback (most recent call last)",
      "\u001b[0;32m<ipython-input-11-d7ed2676efa7>\u001b[0m in \u001b[0;36m<module>\u001b[0;34m\u001b[0m\n\u001b[1;32m      1\u001b[0m \u001b[0mpbar\u001b[0m \u001b[0;34m=\u001b[0m \u001b[0mtrange\u001b[0m\u001b[0;34m(\u001b[0m\u001b[0;36m1000000\u001b[0m\u001b[0;34m,\u001b[0m \u001b[0mdesc\u001b[0m\u001b[0;34m=\u001b[0m\u001b[0;34m\"r2 = {r2:.20f}\"\u001b[0m\u001b[0;34m.\u001b[0m\u001b[0mformat\u001b[0m\u001b[0;34m(\u001b[0m\u001b[0mr2\u001b[0m\u001b[0;34m=\u001b[0m\u001b[0mmodel\u001b[0m\u001b[0;34m.\u001b[0m\u001b[0mr2\u001b[0m\u001b[0;34m)\u001b[0m\u001b[0;34m)\u001b[0m\u001b[0;34m\u001b[0m\u001b[0;34m\u001b[0m\u001b[0m\n\u001b[1;32m      2\u001b[0m \u001b[0;32mfor\u001b[0m \u001b[0mi\u001b[0m \u001b[0;32min\u001b[0m \u001b[0mpbar\u001b[0m\u001b[0;34m:\u001b[0m\u001b[0;34m\u001b[0m\u001b[0;34m\u001b[0m\u001b[0m\n\u001b[0;32m----> 3\u001b[0;31m     \u001b[0mpbar\u001b[0m\u001b[0;34m.\u001b[0m\u001b[0mset_description\u001b[0m\u001b[0;34m(\u001b[0m\u001b[0;34m\"r2 = {r2:.20f}\"\u001b[0m\u001b[0;34m.\u001b[0m\u001b[0mformat\u001b[0m\u001b[0;34m(\u001b[0m\u001b[0mr2\u001b[0m\u001b[0;34m=\u001b[0m\u001b[0mmodel\u001b[0m\u001b[0;34m.\u001b[0m\u001b[0mr2\u001b[0m\u001b[0;34m)\u001b[0m\u001b[0;34m)\u001b[0m\u001b[0;34m\u001b[0m\u001b[0;34m\u001b[0m\u001b[0m\n\u001b[0m\u001b[1;32m      4\u001b[0m     \u001b[0mpbar\u001b[0m\u001b[0;34m.\u001b[0m\u001b[0mrefresh\u001b[0m\u001b[0;34m(\u001b[0m\u001b[0;34m)\u001b[0m\u001b[0;34m\u001b[0m\u001b[0;34m\u001b[0m\u001b[0m\n\u001b[1;32m      5\u001b[0m     \u001b[0mmodel\u001b[0m\u001b[0;34m.\u001b[0m\u001b[0mforward_pass\u001b[0m\u001b[0;34m(\u001b[0m\u001b[0mx_data\u001b[0m\u001b[0;34m)\u001b[0m\u001b[0;34m\u001b[0m\u001b[0;34m\u001b[0m\u001b[0m\n",
      "\u001b[0;32m~/venv/lib/python3.8/site-packages/tqdm/std.py\u001b[0m in \u001b[0;36mset_description\u001b[0;34m(self, desc, refresh)\u001b[0m\n\u001b[1;32m   1385\u001b[0m         \u001b[0mself\u001b[0m\u001b[0;34m.\u001b[0m\u001b[0mdesc\u001b[0m \u001b[0;34m=\u001b[0m \u001b[0mdesc\u001b[0m \u001b[0;34m+\u001b[0m \u001b[0;34m': '\u001b[0m \u001b[0;32mif\u001b[0m \u001b[0mdesc\u001b[0m \u001b[0;32melse\u001b[0m \u001b[0;34m''\u001b[0m\u001b[0;34m\u001b[0m\u001b[0;34m\u001b[0m\u001b[0m\n\u001b[1;32m   1386\u001b[0m         \u001b[0;32mif\u001b[0m \u001b[0mrefresh\u001b[0m\u001b[0;34m:\u001b[0m\u001b[0;34m\u001b[0m\u001b[0;34m\u001b[0m\u001b[0m\n\u001b[0;32m-> 1387\u001b[0;31m             \u001b[0mself\u001b[0m\u001b[0;34m.\u001b[0m\u001b[0mrefresh\u001b[0m\u001b[0;34m(\u001b[0m\u001b[0;34m)\u001b[0m\u001b[0;34m\u001b[0m\u001b[0;34m\u001b[0m\u001b[0m\n\u001b[0m\u001b[1;32m   1388\u001b[0m \u001b[0;34m\u001b[0m\u001b[0m\n\u001b[1;32m   1389\u001b[0m     \u001b[0;32mdef\u001b[0m \u001b[0mset_description_str\u001b[0m\u001b[0;34m(\u001b[0m\u001b[0mself\u001b[0m\u001b[0;34m,\u001b[0m \u001b[0mdesc\u001b[0m\u001b[0;34m=\u001b[0m\u001b[0;32mNone\u001b[0m\u001b[0;34m,\u001b[0m \u001b[0mrefresh\u001b[0m\u001b[0;34m=\u001b[0m\u001b[0;32mTrue\u001b[0m\u001b[0;34m)\u001b[0m\u001b[0;34m:\u001b[0m\u001b[0;34m\u001b[0m\u001b[0;34m\u001b[0m\u001b[0m\n",
      "\u001b[0;32m~/venv/lib/python3.8/site-packages/tqdm/std.py\u001b[0m in \u001b[0;36mrefresh\u001b[0;34m(self, nolock, lock_args)\u001b[0m\n\u001b[1;32m   1346\u001b[0m             \u001b[0;32melse\u001b[0m\u001b[0;34m:\u001b[0m\u001b[0;34m\u001b[0m\u001b[0;34m\u001b[0m\u001b[0m\n\u001b[1;32m   1347\u001b[0m                 \u001b[0mself\u001b[0m\u001b[0;34m.\u001b[0m\u001b[0m_lock\u001b[0m\u001b[0;34m.\u001b[0m\u001b[0macquire\u001b[0m\u001b[0;34m(\u001b[0m\u001b[0;34m)\u001b[0m\u001b[0;34m\u001b[0m\u001b[0;34m\u001b[0m\u001b[0m\n\u001b[0;32m-> 1348\u001b[0;31m         \u001b[0mself\u001b[0m\u001b[0;34m.\u001b[0m\u001b[0mdisplay\u001b[0m\u001b[0;34m(\u001b[0m\u001b[0;34m)\u001b[0m\u001b[0;34m\u001b[0m\u001b[0;34m\u001b[0m\u001b[0m\n\u001b[0m\u001b[1;32m   1349\u001b[0m         \u001b[0;32mif\u001b[0m \u001b[0;32mnot\u001b[0m \u001b[0mnolock\u001b[0m\u001b[0;34m:\u001b[0m\u001b[0;34m\u001b[0m\u001b[0;34m\u001b[0m\u001b[0m\n\u001b[1;32m   1350\u001b[0m             \u001b[0mself\u001b[0m\u001b[0;34m.\u001b[0m\u001b[0m_lock\u001b[0m\u001b[0;34m.\u001b[0m\u001b[0mrelease\u001b[0m\u001b[0;34m(\u001b[0m\u001b[0;34m)\u001b[0m\u001b[0;34m\u001b[0m\u001b[0;34m\u001b[0m\u001b[0m\n",
      "\u001b[0;32m~/venv/lib/python3.8/site-packages/tqdm/std.py\u001b[0m in \u001b[0;36mdisplay\u001b[0;34m(self, msg, pos)\u001b[0m\n\u001b[1;32m   1479\u001b[0m         \u001b[0;32mif\u001b[0m \u001b[0mpos\u001b[0m\u001b[0;34m:\u001b[0m\u001b[0;34m\u001b[0m\u001b[0;34m\u001b[0m\u001b[0m\n\u001b[1;32m   1480\u001b[0m             \u001b[0mself\u001b[0m\u001b[0;34m.\u001b[0m\u001b[0mmoveto\u001b[0m\u001b[0;34m(\u001b[0m\u001b[0mpos\u001b[0m\u001b[0;34m)\u001b[0m\u001b[0;34m\u001b[0m\u001b[0;34m\u001b[0m\u001b[0m\n\u001b[0;32m-> 1481\u001b[0;31m         \u001b[0mself\u001b[0m\u001b[0;34m.\u001b[0m\u001b[0msp\u001b[0m\u001b[0;34m(\u001b[0m\u001b[0mself\u001b[0m\u001b[0;34m.\u001b[0m\u001b[0m__repr__\u001b[0m\u001b[0;34m(\u001b[0m\u001b[0;34m)\u001b[0m \u001b[0;32mif\u001b[0m \u001b[0mmsg\u001b[0m \u001b[0;32mis\u001b[0m \u001b[0;32mNone\u001b[0m \u001b[0;32melse\u001b[0m \u001b[0mmsg\u001b[0m\u001b[0;34m)\u001b[0m\u001b[0;34m\u001b[0m\u001b[0;34m\u001b[0m\u001b[0m\n\u001b[0m\u001b[1;32m   1482\u001b[0m         \u001b[0;32mif\u001b[0m \u001b[0mpos\u001b[0m\u001b[0;34m:\u001b[0m\u001b[0;34m\u001b[0m\u001b[0;34m\u001b[0m\u001b[0m\n\u001b[1;32m   1483\u001b[0m             \u001b[0mself\u001b[0m\u001b[0;34m.\u001b[0m\u001b[0mmoveto\u001b[0m\u001b[0;34m(\u001b[0m\u001b[0;34m-\u001b[0m\u001b[0mpos\u001b[0m\u001b[0;34m)\u001b[0m\u001b[0;34m\u001b[0m\u001b[0;34m\u001b[0m\u001b[0m\n",
      "\u001b[0;32m~/venv/lib/python3.8/site-packages/tqdm/std.py\u001b[0m in \u001b[0;36mprint_status\u001b[0;34m(s)\u001b[0m\n\u001b[1;32m    302\u001b[0m         \u001b[0;32mdef\u001b[0m \u001b[0mprint_status\u001b[0m\u001b[0;34m(\u001b[0m\u001b[0ms\u001b[0m\u001b[0;34m)\u001b[0m\u001b[0;34m:\u001b[0m\u001b[0;34m\u001b[0m\u001b[0;34m\u001b[0m\u001b[0m\n\u001b[1;32m    303\u001b[0m             \u001b[0mlen_s\u001b[0m \u001b[0;34m=\u001b[0m \u001b[0mdisp_len\u001b[0m\u001b[0;34m(\u001b[0m\u001b[0ms\u001b[0m\u001b[0;34m)\u001b[0m\u001b[0;34m\u001b[0m\u001b[0;34m\u001b[0m\u001b[0m\n\u001b[0;32m--> 304\u001b[0;31m             \u001b[0mfp_write\u001b[0m\u001b[0;34m(\u001b[0m\u001b[0;34m'\\r'\u001b[0m \u001b[0;34m+\u001b[0m \u001b[0ms\u001b[0m \u001b[0;34m+\u001b[0m \u001b[0;34m(\u001b[0m\u001b[0;34m' '\u001b[0m \u001b[0;34m*\u001b[0m \u001b[0mmax\u001b[0m\u001b[0;34m(\u001b[0m\u001b[0mlast_len\u001b[0m\u001b[0;34m[\u001b[0m\u001b[0;36m0\u001b[0m\u001b[0;34m]\u001b[0m \u001b[0;34m-\u001b[0m \u001b[0mlen_s\u001b[0m\u001b[0;34m,\u001b[0m \u001b[0;36m0\u001b[0m\u001b[0;34m)\u001b[0m\u001b[0;34m)\u001b[0m\u001b[0;34m)\u001b[0m\u001b[0;34m\u001b[0m\u001b[0;34m\u001b[0m\u001b[0m\n\u001b[0m\u001b[1;32m    305\u001b[0m             \u001b[0mlast_len\u001b[0m\u001b[0;34m[\u001b[0m\u001b[0;36m0\u001b[0m\u001b[0;34m]\u001b[0m \u001b[0;34m=\u001b[0m \u001b[0mlen_s\u001b[0m\u001b[0;34m\u001b[0m\u001b[0;34m\u001b[0m\u001b[0m\n\u001b[1;32m    306\u001b[0m \u001b[0;34m\u001b[0m\u001b[0m\n",
      "\u001b[0;32m~/venv/lib/python3.8/site-packages/tqdm/std.py\u001b[0m in \u001b[0;36mfp_write\u001b[0;34m(s)\u001b[0m\n\u001b[1;32m    296\u001b[0m         \u001b[0;32mdef\u001b[0m \u001b[0mfp_write\u001b[0m\u001b[0;34m(\u001b[0m\u001b[0ms\u001b[0m\u001b[0;34m)\u001b[0m\u001b[0;34m:\u001b[0m\u001b[0;34m\u001b[0m\u001b[0;34m\u001b[0m\u001b[0m\n\u001b[1;32m    297\u001b[0m             \u001b[0mfp\u001b[0m\u001b[0;34m.\u001b[0m\u001b[0mwrite\u001b[0m\u001b[0;34m(\u001b[0m\u001b[0m_unicode\u001b[0m\u001b[0;34m(\u001b[0m\u001b[0ms\u001b[0m\u001b[0;34m)\u001b[0m\u001b[0;34m)\u001b[0m\u001b[0;34m\u001b[0m\u001b[0;34m\u001b[0m\u001b[0m\n\u001b[0;32m--> 298\u001b[0;31m             \u001b[0mfp_flush\u001b[0m\u001b[0;34m(\u001b[0m\u001b[0;34m)\u001b[0m\u001b[0;34m\u001b[0m\u001b[0;34m\u001b[0m\u001b[0m\n\u001b[0m\u001b[1;32m    299\u001b[0m \u001b[0;34m\u001b[0m\u001b[0m\n\u001b[1;32m    300\u001b[0m         \u001b[0mlast_len\u001b[0m \u001b[0;34m=\u001b[0m \u001b[0;34m[\u001b[0m\u001b[0;36m0\u001b[0m\u001b[0;34m]\u001b[0m\u001b[0;34m\u001b[0m\u001b[0;34m\u001b[0m\u001b[0m\n",
      "\u001b[0;32m~/venv/lib/python3.8/site-packages/ipykernel/iostream.py\u001b[0m in \u001b[0;36mflush\u001b[0;34m(self)\u001b[0m\n\u001b[1;32m    350\u001b[0m                 \u001b[0mself\u001b[0m\u001b[0;34m.\u001b[0m\u001b[0mpub_thread\u001b[0m\u001b[0;34m.\u001b[0m\u001b[0mschedule\u001b[0m\u001b[0;34m(\u001b[0m\u001b[0mevt\u001b[0m\u001b[0;34m.\u001b[0m\u001b[0mset\u001b[0m\u001b[0;34m)\u001b[0m\u001b[0;34m\u001b[0m\u001b[0;34m\u001b[0m\u001b[0m\n\u001b[1;32m    351\u001b[0m                 \u001b[0;31m# and give a timeout to avoid\u001b[0m\u001b[0;34m\u001b[0m\u001b[0;34m\u001b[0m\u001b[0;34m\u001b[0m\u001b[0m\n\u001b[0;32m--> 352\u001b[0;31m                 \u001b[0;32mif\u001b[0m \u001b[0;32mnot\u001b[0m \u001b[0mevt\u001b[0m\u001b[0;34m.\u001b[0m\u001b[0mwait\u001b[0m\u001b[0;34m(\u001b[0m\u001b[0mself\u001b[0m\u001b[0;34m.\u001b[0m\u001b[0mflush_timeout\u001b[0m\u001b[0;34m)\u001b[0m\u001b[0;34m:\u001b[0m\u001b[0;34m\u001b[0m\u001b[0;34m\u001b[0m\u001b[0m\n\u001b[0m\u001b[1;32m    353\u001b[0m                     \u001b[0;31m# write directly to __stderr__ instead of warning because\u001b[0m\u001b[0;34m\u001b[0m\u001b[0;34m\u001b[0m\u001b[0;34m\u001b[0m\u001b[0m\n\u001b[1;32m    354\u001b[0m                     \u001b[0;31m# if this is happening sys.stderr may be the problem.\u001b[0m\u001b[0;34m\u001b[0m\u001b[0;34m\u001b[0m\u001b[0;34m\u001b[0m\u001b[0m\n",
      "\u001b[0;32m/usr/lib/python3.8/threading.py\u001b[0m in \u001b[0;36mwait\u001b[0;34m(self, timeout)\u001b[0m\n\u001b[1;32m    556\u001b[0m             \u001b[0msignaled\u001b[0m \u001b[0;34m=\u001b[0m \u001b[0mself\u001b[0m\u001b[0;34m.\u001b[0m\u001b[0m_flag\u001b[0m\u001b[0;34m\u001b[0m\u001b[0;34m\u001b[0m\u001b[0m\n\u001b[1;32m    557\u001b[0m             \u001b[0;32mif\u001b[0m \u001b[0;32mnot\u001b[0m \u001b[0msignaled\u001b[0m\u001b[0;34m:\u001b[0m\u001b[0;34m\u001b[0m\u001b[0;34m\u001b[0m\u001b[0m\n\u001b[0;32m--> 558\u001b[0;31m                 \u001b[0msignaled\u001b[0m \u001b[0;34m=\u001b[0m \u001b[0mself\u001b[0m\u001b[0;34m.\u001b[0m\u001b[0m_cond\u001b[0m\u001b[0;34m.\u001b[0m\u001b[0mwait\u001b[0m\u001b[0;34m(\u001b[0m\u001b[0mtimeout\u001b[0m\u001b[0;34m)\u001b[0m\u001b[0;34m\u001b[0m\u001b[0;34m\u001b[0m\u001b[0m\n\u001b[0m\u001b[1;32m    559\u001b[0m             \u001b[0;32mreturn\u001b[0m \u001b[0msignaled\u001b[0m\u001b[0;34m\u001b[0m\u001b[0;34m\u001b[0m\u001b[0m\n\u001b[1;32m    560\u001b[0m \u001b[0;34m\u001b[0m\u001b[0m\n",
      "\u001b[0;32m/usr/lib/python3.8/threading.py\u001b[0m in \u001b[0;36mwait\u001b[0;34m(self, timeout)\u001b[0m\n\u001b[1;32m    304\u001b[0m             \u001b[0;32melse\u001b[0m\u001b[0;34m:\u001b[0m\u001b[0;34m\u001b[0m\u001b[0;34m\u001b[0m\u001b[0m\n\u001b[1;32m    305\u001b[0m                 \u001b[0;32mif\u001b[0m \u001b[0mtimeout\u001b[0m \u001b[0;34m>\u001b[0m \u001b[0;36m0\u001b[0m\u001b[0;34m:\u001b[0m\u001b[0;34m\u001b[0m\u001b[0;34m\u001b[0m\u001b[0m\n\u001b[0;32m--> 306\u001b[0;31m                     \u001b[0mgotit\u001b[0m \u001b[0;34m=\u001b[0m \u001b[0mwaiter\u001b[0m\u001b[0;34m.\u001b[0m\u001b[0macquire\u001b[0m\u001b[0;34m(\u001b[0m\u001b[0;32mTrue\u001b[0m\u001b[0;34m,\u001b[0m \u001b[0mtimeout\u001b[0m\u001b[0;34m)\u001b[0m\u001b[0;34m\u001b[0m\u001b[0;34m\u001b[0m\u001b[0m\n\u001b[0m\u001b[1;32m    307\u001b[0m                 \u001b[0;32melse\u001b[0m\u001b[0;34m:\u001b[0m\u001b[0;34m\u001b[0m\u001b[0;34m\u001b[0m\u001b[0m\n\u001b[1;32m    308\u001b[0m                     \u001b[0mgotit\u001b[0m \u001b[0;34m=\u001b[0m \u001b[0mwaiter\u001b[0m\u001b[0;34m.\u001b[0m\u001b[0macquire\u001b[0m\u001b[0;34m(\u001b[0m\u001b[0;32mFalse\u001b[0m\u001b[0;34m)\u001b[0m\u001b[0;34m\u001b[0m\u001b[0;34m\u001b[0m\u001b[0m\n",
      "\u001b[0;31mKeyboardInterrupt\u001b[0m: "
     ]
    }
   ],
   "source": [
    "pbar = trange(1000000, desc=\"r2 = {r2:.20f}\".format(r2=model.r2))\n",
    "for i in pbar:\n",
    "    pbar.set_description(\"r2 = {r2:.20f}\".format(r2=model.r2))\n",
    "    pbar.refresh()\n",
    "    model.forward_pass(x_data)\n",
    "    model.backpropogate(x_data, y_data)"
   ]
  },
  {
   "cell_type": "code",
   "execution_count": 4,
   "metadata": {
    "colab": {
     "base_uri": "https://localhost:8080/",
     "height": 54
    },
    "colab_type": "code",
    "id": "d55HnLQNLi8g",
    "outputId": "36d5e165-968b-409e-91d0-265d4a7cb356"
   },
   "outputs": [
    {
     "name": "stdout",
     "output_type": "stream",
     "text": [
      "[0.023070146795452967, 0.38379157735693203, 0.006718516404288282, -0.014378094737395252, 0.0404150244199437, 0.07261800057079389, 0.07594984378475837, 0.0634946932360781, 0.04639775878074085, 0.03010460819645215, 0.017045245130772126, 0.008407974839608982, 0.0026127399641891753, -0.00012546005458850826, -0.0015691332930907697, -0.001543912567557937, -0.0009506542279917797, -1.3183741421605997e-05, 0.0008343558006450839, 0.0019698656345813652, 0.0022766515638419555, 0.0032497946968075165, 0.0034185264499576014, 0.004309752836550532, 0.0045864045135181695, 0.00431031596206271, 0.00481576608743918, 0.005072907732098591, 0.005093618524188072, 0.00522658516575205, 0.004873486329585498, 0.005030344697562063, 0.004572072644839283, 0.004597117888375854, 0.00475024387687907, 0.004173380897139006, 0.00364126632832702, 0.003775782651918894, 0.00389297092517302, 0.0037876920800783, 0.0031792592182581076, 0.0037374367065063103, 0.0034380747829506134, 0.0035177879807289578, 0.003292386561403994, 0.003216910854695308, 0.0034082520240216476, 0.0030184134991921912, 0.002950566804529379, 0.002783719713551719, 0.00314347444036744, 0.00243369886216867, 0.0027202064385495575, 0.0024924390562646994, 0.002990034441976428, 0.002752173266819494, 0.0030939706791007337, 0.002553370733826875, 0.0027197839317981394, 0.0024336945529237013, 0.0029004559593328308, 0.0021966422710447873, 0.002792207415237001, 0.00301275666553339, 0.002872856210577249, 0.002382891060191778, 0.002571464858380511, 0.002150309412685008, 0.0023967985484026066, 0.0021081959766659445, 0.0026289127237009505, 0.00272727210928413, 0.002655758922277447, 0.0021294165975018703, 0.002500312222797719, 0.0029177728495183887, 0.002749647993064047, 0.002324416264161038, 0.0025080619050958184, 0.002853016568109954, 0.002555977518886928, 0.002521062454958232, 0.0023379525468501024, 0.002517736126973153, 0.002321899354880264, 0.0022876446868965667, 0.002990356054599913, 0.0025391387759514496, 0.002301617314917596, 0.002588310112296953, 0.0024583180274272, 0.002587585306765031, 0.002499267756448978, 0.00213055221543022, 0.00250703030788309, 0.002093436368075152, 0.002445564764358615, 0.00203844127500435, 0.002174616394916026, 0.0025442971053820165]\n"
     ]
    }
   ],
   "source": [
    "print(model.b_list)"
   ]
  },
  {
   "cell_type": "code",
   "execution_count": 6,
   "metadata": {
    "colab": {},
    "colab_type": "code",
    "id": "RCnMrk7Gp6X5"
   },
   "outputs": [],
   "source": [
    "import decimal\n",
    "\n",
    "# create a new context for this task\n",
    "ctx = decimal.Context()\n",
    "\n",
    "# 20 digits should be enough for everyone :D\n",
    "ctx.prec = 100\n",
    "\n",
    "def float_to_str(f):\n",
    "    \"\"\"\n",
    "    Convert the given float to a string,\n",
    "    without resorting to scientific notation\n",
    "    \"\"\"\n",
    "    d1 = ctx.create_decimal(repr(f))\n",
    "    return format(d1, 'f')"
   ]
  },
  {
   "cell_type": "code",
   "execution_count": 7,
   "metadata": {},
   "outputs": [
    {
     "name": "stdout",
     "output_type": "stream",
     "text": [
      "f(x) = 0.023070146795452967x^{1} + 0.38379157735693203x^{2} + 0.006718516404288282x^{3} + -0.014378094737395252x^{4} + 0.0404150244199437x^{5} + 0.07261800057079389x^{6} + 0.07594984378475837x^{7} + 0.0634946932360781x^{8} + 0.04639775878074085x^{9} + 0.03010460819645215x^{10} + 0.017045245130772126x^{11} + 0.008407974839608982x^{12} + 0.0026127399641891753x^{13} + -0.00012546005458850826x^{14} + -0.0015691332930907697x^{15} + -0.001543912567557937x^{16} + -0.0009506542279917797x^{17} + -0.000013183741421605997x^{18} + 0.0008343558006450839x^{19} + 0.0019698656345813652x^{20} + 0.0022766515638419555x^{21} + 0.0032497946968075165x^{22} + 0.0034185264499576014x^{23} + 0.004309752836550532x^{24} + 0.0045864045135181695x^{25} + 0.00431031596206271x^{26} + 0.00481576608743918x^{27} + 0.005072907732098591x^{28} + 0.005093618524188072x^{29} + 0.00522658516575205x^{30} + 0.004873486329585498x^{31} + 0.005030344697562063x^{32} + 0.004572072644839283x^{33} + 0.004597117888375854x^{34} + 0.00475024387687907x^{35} + 0.004173380897139006x^{36} + 0.00364126632832702x^{37} + 0.003775782651918894x^{38} + 0.00389297092517302x^{39} + 0.0037876920800783x^{40} + 0.0031792592182581076x^{41} + 0.0037374367065063103x^{42} + 0.0034380747829506134x^{43} + 0.0035177879807289578x^{44} + 0.003292386561403994x^{45} + 0.003216910854695308x^{46} + 0.0034082520240216476x^{47} + 0.0030184134991921912x^{48} + 0.002950566804529379x^{49} + 0.002783719713551719x^{50} + 0.00314347444036744x^{51} + 0.00243369886216867x^{52} + 0.0027202064385495575x^{53} + 0.0024924390562646994x^{54} + 0.002990034441976428x^{55} + 0.002752173266819494x^{56} + 0.0030939706791007337x^{57} + 0.002553370733826875x^{58} + 0.0027197839317981394x^{59} + 0.0024336945529237013x^{60} + 0.0029004559593328308x^{61} + 0.0021966422710447873x^{62} + 0.002792207415237001x^{63} + 0.00301275666553339x^{64} + 0.002872856210577249x^{65} + 0.002382891060191778x^{66} + 0.002571464858380511x^{67} + 0.002150309412685008x^{68} + 0.0023967985484026066x^{69} + 0.0021081959766659445x^{70} + 0.0026289127237009505x^{71} + 0.00272727210928413x^{72} + 0.002655758922277447x^{73} + 0.0021294165975018703x^{74} + 0.002500312222797719x^{75} + 0.0029177728495183887x^{76} + 0.002749647993064047x^{77} + 0.002324416264161038x^{78} + 0.0025080619050958184x^{79} + 0.002853016568109954x^{80} + 0.002555977518886928x^{81} + 0.002521062454958232x^{82} + 0.0023379525468501024x^{83} + 0.002517736126973153x^{84} + 0.002321899354880264x^{85} + 0.0022876446868965667x^{86} + 0.002990356054599913x^{87} + 0.0025391387759514496x^{88} + 0.002301617314917596x^{89} + 0.002588310112296953x^{90} + 0.0024583180274272x^{91} + 0.002587585306765031x^{92} + 0.002499267756448978x^{93} + 0.00213055221543022x^{94} + 0.00250703030788309x^{95} + 0.002093436368075152x^{96} + 0.002445564764358615x^{97} + 0.00203844127500435x^{98} + 0.002174616394916026x^{99} + 0.0025442971053820165x^{100}\n"
     ]
    }
   ],
   "source": [
    "equation = \"f(x) = \"\n",
    "for i,b in enumerate(model.b_list):\n",
    "    equation += f\"{float_to_str(b)}x^{{{i+1}}}\"\n",
    "    if i < len(model.b_list) - 1:\n",
    "        equation += \" + \"\n",
    "print(equation)"
   ]
  },
  {
   "cell_type": "code",
   "execution_count": 8,
   "metadata": {
    "colab": {
     "base_uri": "https://localhost:8080/",
     "height": 54
    },
    "colab_type": "code",
    "id": "-2-AZ_w2h4vF",
    "outputId": "614a1d07-dd4b-4c20-ccf1-c1ee85978ab2",
    "scrolled": true
   },
   "outputs": [
    {
     "name": "stdout",
     "output_type": "stream",
     "text": [
      "f(x) = {} & 0.023070146795452967x^{1} + 0.38379157735693203x^{2} + \\\\\n",
      "\t& 0.006718516404288282x^{3} + -0.014378094737395252x^{4} + \\\\\n",
      "\t& 0.0404150244199437x^{5} + 0.07261800057079389x^{6} + \\\\\n",
      "\t& 0.07594984378475837x^{7} + 0.0634946932360781x^{8} + \\\\\n",
      "\t& 0.04639775878074085x^{9} + 0.03010460819645215x^{10} + \\\\\n",
      "\t& 0.017045245130772126x^{11} + 0.008407974839608982x^{12} + \\\\\n",
      "\t& 0.0026127399641891753x^{13} + -0.00012546005458850826x^{14} + \\\\\n",
      "\t& -0.0015691332930907697x^{15} + -0.001543912567557937x^{16} + \\\\\n",
      "\t& -0.0009506542279917797x^{17} + -0.000013183741421605997x^{18} + \\\\\n",
      "\t& 0.0008343558006450839x^{19} + 0.0019698656345813652x^{20} + \\\\\n",
      "\t& 0.0022766515638419555x^{21} + 0.0032497946968075165x^{22} + \\\\\n",
      "\t& 0.0034185264499576014x^{23} + 0.004309752836550532x^{24} + \\\\\n",
      "\t& 0.0045864045135181695x^{25} + 0.00431031596206271x^{26} + \\\\\n",
      "\t& 0.00481576608743918x^{27} + 0.005072907732098591x^{28} + \\\\\n",
      "\t& 0.005093618524188072x^{29} + 0.00522658516575205x^{30} + \\\\\n",
      "\t& 0.004873486329585498x^{31} + 0.005030344697562063x^{32} + \\\\\n",
      "\t& 0.004572072644839283x^{33} + 0.004597117888375854x^{34} + \\\\\n",
      "\t& 0.00475024387687907x^{35} + 0.004173380897139006x^{36} + \\\\\n",
      "\t& 0.00364126632832702x^{37} + 0.003775782651918894x^{38} + \\\\\n",
      "\t& 0.00389297092517302x^{39} + 0.0037876920800783x^{40} + \\\\\n",
      "\t& 0.0031792592182581076x^{41} + 0.0037374367065063103x^{42} + \\\\\n",
      "\t& 0.0034380747829506134x^{43} + 0.0035177879807289578x^{44} + \\\\\n",
      "\t& 0.003292386561403994x^{45} + 0.003216910854695308x^{46} + \\\\\n",
      "\t& 0.0034082520240216476x^{47} + 0.0030184134991921912x^{48} + \\\\\n",
      "\t& 0.002950566804529379x^{49} + 0.002783719713551719x^{50} + \\\\\n",
      "\t& 0.00314347444036744x^{51} + 0.00243369886216867x^{52} + \\\\\n",
      "\t& 0.0027202064385495575x^{53} + 0.0024924390562646994x^{54} + \\\\\n",
      "\t& 0.002990034441976428x^{55} + 0.002752173266819494x^{56} + \\\\\n",
      "\t& 0.0030939706791007337x^{57} + 0.002553370733826875x^{58} + \\\\\n",
      "\t& 0.0027197839317981394x^{59} + 0.0024336945529237013x^{60} + \\\\\n",
      "\t& 0.0029004559593328308x^{61} + 0.0021966422710447873x^{62} + \\\\\n",
      "\t& 0.002792207415237001x^{63} + 0.00301275666553339x^{64} + \\\\\n",
      "\t& 0.002872856210577249x^{65} + 0.002382891060191778x^{66} + \\\\\n",
      "\t& 0.002571464858380511x^{67} + 0.002150309412685008x^{68} + \\\\\n",
      "\t& 0.0023967985484026066x^{69} + 0.0021081959766659445x^{70} + \\\\\n",
      "\t& 0.0026289127237009505x^{71} + 0.00272727210928413x^{72} + \\\\\n",
      "\t& 0.002655758922277447x^{73} + 0.0021294165975018703x^{74} + \\\\\n",
      "\t& 0.002500312222797719x^{75} + 0.0029177728495183887x^{76} + \\\\\n",
      "\t& 0.002749647993064047x^{77} + 0.002324416264161038x^{78} + \\\\\n",
      "\t& 0.0025080619050958184x^{79} + 0.002853016568109954x^{80} + \\\\\n",
      "\t& 0.002555977518886928x^{81} + 0.002521062454958232x^{82} + \\\\\n",
      "\t& 0.0023379525468501024x^{83} + 0.002517736126973153x^{84} + \\\\\n",
      "\t& 0.002321899354880264x^{85} + 0.0022876446868965667x^{86} + \\\\\n",
      "\t& 0.002990356054599913x^{87} + 0.0025391387759514496x^{88} + \\\\\n",
      "\t& 0.002301617314917596x^{89} + 0.002588310112296953x^{90} + \\\\\n",
      "\t& 0.0024583180274272x^{91} + 0.002587585306765031x^{92} + \\\\\n",
      "\t& 0.002499267756448978x^{93} + 0.00213055221543022x^{94} + \\\\\n",
      "\t& 0.00250703030788309x^{95} + 0.002093436368075152x^{96} + \\\\\n",
      "\t& 0.002445564764358615x^{97} + 0.00203844127500435x^{98} + \\\\\n",
      "\t& 0.002174616394916026x^{99} + 0.0025442971053820165x^{100}\n"
     ]
    }
   ],
   "source": [
    "equation = \"f(x) = {} & \"\n",
    "counter = 0\n",
    "for i,b in enumerate(model.b_list):\n",
    "    if counter == 2:\n",
    "        counter = 0\n",
    "        equation += \"\\\\\\\\\\n\\t& \"\n",
    "    equation += f\"{float_to_str(b)}x^{{{i+1}}}\"\n",
    "    if i < len(model.b_list) - 1:\n",
    "        equation += \" + \"\n",
    "    counter += 1\n",
    "print(equation)"
   ]
  },
  {
   "cell_type": "code",
   "execution_count": null,
   "metadata": {
    "colab": {
     "base_uri": "https://localhost:8080/",
     "height": 71
    },
    "colab_type": "code",
    "collapsed": true,
    "id": "RbzpAe9ug-O8",
    "jupyter": {
     "outputs_hidden": true
    },
    "outputId": "eb96b582-0c9b-4f70-91dd-a59b9a88c226"
   },
   "outputs": [
    {
     "name": "stdout",
     "output_type": "stream",
     "text": [
      "[0.02280762602348304, 0.38674067122701355, 1.3170910247312021e-17, 2.1576811072506523e-16, 5.199681764172789e-08, 0.030292900425790255, 0.26579211490487914, 0.013888048728293042, 1.9189444125143883e-05, 1.521875572802927e-08, 1.7847751932584996e-11, 8.539228649772306e-13, 7.164281833511482e-15, 1.1201989261182644e-12, 3.781216157631011e-12, 4.4414137920948904e-11, 7.380273246178701e-11, 1.1888410026345188e-08, 1.6890545633344755e-07, 1.6126363658484024e-08, 6.44863983916205e-06, 9.708931610809931e-05, 0.00014029131086793376, 0.001957116291767684, 0.0062297183822945515, 0.0061111198752881735, 0.010412823068695018, 0.017681019530622333, 0.013884664994109576, 0.06754380706965617, 0.04733745279938467, 0.03668620599141435, 0.013727964160670791, 0.0237265996692959, 0.018406398360357547, 0.00517710352083888, 0.005756870200215155, 0.0017398008617261936, 0.0005638869553005879, 0.0010629414881281618, 0.0007976537013856074, 0.0006205220548759612, 0.0001424072639363925, 0.000291455436699568, 8.858443553734198e-05, 0.0001041925260075456, 4.8861868766647535e-05, 6.186860350851722e-05, 7.667748212396673e-06, 6.962591466407786e-06, 3.1018003479924374e-06, 7.536722819929979e-06, 7.492435254560691e-06, 8.191033347681431e-06, 1.833354752676229e-06, 3.7521437336277524e-06, 1.3409632041842003e-06, 2.710610493774158e-06, 5.918816233262598e-07, 5.585788806568205e-07, 8.762994931168895e-07, 2.452088974342846e-07, 4.0606072325473743e-07, 3.47961394130026e-07, 1.1748722619037053e-08, 6.795589482466227e-08, 6.106529964803703e-08, 1.0226315685444785e-07, 4.9522884349321426e-08, 9.312515804460961e-08, 1.176998144413979e-07, 2.7477010465912737e-08, 3.189971056080412e-08, 3.4304260432344275e-08, 5.8464906495336904e-08, 4.391303427387544e-08, 1.6239797943382882e-08, 3.572900786325911e-08, 7.936341773511699e-09, 1.1898455449080106e-08, 2.1089350412390263e-08, 7.2136946366594515e-09, 6.258892969812228e-09, 5.196008336286656e-11, 5.275081185932265e-09, 3.2807565029082867e-09, 7.237932244747393e-09, 6.0795838818671325e-09, 4.1476552841960314e-09, 1.8001748807744034e-09, 8.406354064432617e-10, 4.758126001481175e-10, 1.623421686929283e-10, 1.2144849758050615e-09, 1.6590743466027292e-09, 1.1746460528632855e-09, 4.2728008523129135e-10, 6.220802156583542e-10, 6.975703718285104e-10, 1.7734823090965216e-10]\n",
      "100\n"
     ]
    }
   ],
   "source": [
    "values = []\n",
    "for i,letter in enumerate(equation):\n",
    "    if equation[i-1] in ['~','+'] and letter == ' ':\n",
    "        start = i + 1\n",
    "    if letter == 'x':\n",
    "        end = i\n",
    "        values.append(float(equation[start:end]))\n",
    "print(values)\n",
    "print(len(values))"
   ]
  },
  {
   "cell_type": "code",
   "execution_count": null,
   "metadata": {
    "colab": {},
    "colab_type": "code",
    "id": "E2BR3vDviEsO"
   },
   "outputs": [],
   "source": [
    "model.b_list = values"
   ]
  },
  {
   "cell_type": "code",
   "execution_count": 4,
   "metadata": {
    "colab": {
     "base_uri": "https://localhost:8080/",
     "height": 68
    },
    "colab_type": "code",
    "id": "i5_MnzZ1mxub",
    "outputId": "c49c7874-555c-48e0-9012-c4d7c20d94b3"
   },
   "outputs": [
    {
     "name": "stderr",
     "output_type": "stream",
     "text": [
      "  0%|          | 2277/3125000 [00:00<02:17, 22763.94it/s]"
     ]
    },
    {
     "name": "stdout",
     "output_type": "stream",
     "text": [
      "Starting pool...\n"
     ]
    },
    {
     "name": "stderr",
     "output_type": "stream",
     "text": [
      " 97%|█████████▋| 3031672/3125000 [01:17<00:02, 33354.74it/s]\n",
      " 98%|█████████▊| 3074950/3125000 [01:18<00:01, 40941.69it/s]\n",
      "100%|██████████| 3125000/3125000 [01:18<00:00, 39763.37it/s]\n",
      " 95%|█████████▌| 2968757/3125000 [01:19<00:03, 49879.65it/s]\n",
      "100%|██████████| 3125000/3125000 [01:19<00:00, 39378.58it/s]\n",
      "100%|██████████| 3125000/3125000 [01:19<00:00, 39180.49it/s]\n",
      " 95%|█████████▌| 2981294/3125000 [01:19<00:03, 40506.52it/s]\n",
      "100%|██████████| 3125000/3125000 [01:20<00:00, 38925.03it/s]\n",
      "100%|██████████| 3125000/3125000 [01:20<00:00, 38779.90it/s]\n",
      "100%|██████████| 3125000/3125000 [01:20<00:00, 38767.08it/s]\n",
      "100%|██████████| 3125000/3125000 [01:20<00:00, 38675.12it/s]\n",
      " 99%|█████████▉| 3103652/3125000 [01:21<00:00, 43775.72it/s]\n",
      "100%|██████████| 3125000/3125000 [01:21<00:00, 38338.39it/s]\n",
      "100%|██████████| 3125000/3125000 [01:21<00:00, 38236.55it/s]\n",
      "100%|██████████| 3125000/3125000 [01:21<00:00, 38197.04it/s]\n",
      "100%|██████████| 3125000/3125000 [01:21<00:00, 38175.74it/s]\n",
      "100%|██████████| 3125000/3125000 [01:22<00:00, 38064.01it/s]\n",
      "100%|██████████| 3125000/3125000 [01:22<00:00, 38028.44it/s]\n",
      "100%|██████████| 3125000/3125000 [01:22<00:00, 38017.83it/s]\n",
      " 95%|█████████▍| 2958016/3125000 [01:22<00:03, 50438.92it/s]\n",
      "100%|██████████| 3125000/3125000 [01:22<00:00, 37957.11it/s]\n",
      "100%|██████████| 3125000/3125000 [01:22<00:00, 37844.72it/s]\n",
      "100%|██████████| 3125000/3125000 [01:22<00:00, 37851.33it/s]\n",
      "100%|██████████| 3125000/3125000 [01:22<00:00, 37800.91it/s]\n",
      "100%|██████████| 3125000/3125000 [01:22<00:00, 37800.85it/s]\n",
      "100%|██████████| 3125000/3125000 [01:22<00:00, 37741.26it/s]\n",
      "100%|██████████| 3125000/3125000 [01:22<00:00, 37669.24it/s]\n",
      "100%|██████████| 3125000/3125000 [01:23<00:00, 37448.01it/s]\n",
      "100%|██████████| 3125000/3125000 [01:23<00:00, 37287.56it/s]\n",
      "100%|██████████| 3125000/3125000 [01:24<00:00, 36949.51it/s]\n",
      "100%|██████████| 3125000/3125000 [01:24<00:00, 36779.25it/s]\n",
      "100%|██████████| 3125000/3125000 [01:25<00:00, 36652.33it/s]\n",
      "Process ForkPoolWorker-18:\n",
      "Process ForkPoolWorker-25:\n",
      "Process ForkPoolWorker-10:\n",
      "Process ForkPoolWorker-30:\n",
      "Process ForkPoolWorker-15:\n",
      "Process ForkPoolWorker-26:\n",
      "Process ForkPoolWorker-24:\n",
      "Process ForkPoolWorker-17:\n",
      "Process ForkPoolWorker-11:\n",
      "Process ForkPoolWorker-31:\n",
      "Process ForkPoolWorker-23:\n",
      "Process ForkPoolWorker-19:\n",
      "Process ForkPoolWorker-6:\n",
      "Process ForkPoolWorker-12:\n",
      "Process ForkPoolWorker-21:\n",
      "Process ForkPoolWorker-3:\n",
      "Process ForkPoolWorker-14:\n",
      "Process ForkPoolWorker-32:\n",
      "Process ForkPoolWorker-22:\n",
      "Process ForkPoolWorker-7:\n",
      "Process ForkPoolWorker-28:\n",
      "Traceback (most recent call last):\n",
      "Traceback (most recent call last):\n",
      "Process ForkPoolWorker-13:\n",
      "Traceback (most recent call last):\n",
      "Traceback (most recent call last):\n",
      "Traceback (most recent call last):\n",
      "Traceback (most recent call last):\n",
      "Traceback (most recent call last):\n",
      "Traceback (most recent call last):\n",
      "Process ForkPoolWorker-27:\n",
      "Process ForkPoolWorker-20:\n",
      "Traceback (most recent call last):\n",
      "Traceback (most recent call last):\n",
      "Process ForkPoolWorker-8:\n",
      "Process ForkPoolWorker-16:\n",
      "Traceback (most recent call last):\n",
      "Process ForkPoolWorker-2:\n",
      "Traceback (most recent call last):\n",
      "Traceback (most recent call last):\n",
      "Traceback (most recent call last):\n",
      "Process ForkPoolWorker-4:\n",
      "Traceback (most recent call last):\n",
      "Process ForkPoolWorker-29:\n",
      "Process ForkPoolWorker-9:\n",
      "Process ForkPoolWorker-1:\n",
      "  File \"/usr/lib/python3.8/multiprocessing/process.py\", line 315, in _bootstrap\n",
      "    self.run()\n",
      "Process ForkPoolWorker-5:\n",
      "Traceback (most recent call last):\n",
      "Traceback (most recent call last):\n",
      "Traceback (most recent call last):\n",
      "  File \"/usr/lib/python3.8/multiprocessing/process.py\", line 315, in _bootstrap\n",
      "    self.run()\n",
      "Traceback (most recent call last):\n",
      "Traceback (most recent call last):\n",
      "Traceback (most recent call last):\n",
      "  File \"/usr/lib/python3.8/multiprocessing/process.py\", line 315, in _bootstrap\n",
      "    self.run()\n",
      "  File \"/usr/lib/python3.8/multiprocessing/process.py\", line 315, in _bootstrap\n",
      "    self.run()\n",
      "  File \"/usr/lib/python3.8/multiprocessing/process.py\", line 315, in _bootstrap\n",
      "    self.run()\n",
      "Traceback (most recent call last):\n",
      "  File \"/usr/lib/python3.8/multiprocessing/process.py\", line 315, in _bootstrap\n",
      "    self.run()\n",
      "  File \"/usr/lib/python3.8/multiprocessing/process.py\", line 315, in _bootstrap\n",
      "    self.run()\n",
      "  File \"/usr/lib/python3.8/multiprocessing/process.py\", line 315, in _bootstrap\n",
      "    self.run()\n",
      "  File \"/usr/lib/python3.8/multiprocessing/process.py\", line 315, in _bootstrap\n",
      "    self.run()\n",
      "  File \"/usr/lib/python3.8/multiprocessing/process.py\", line 315, in _bootstrap\n",
      "    self.run()\n",
      "Traceback (most recent call last):\n",
      "  File \"/usr/lib/python3.8/multiprocessing/process.py\", line 315, in _bootstrap\n",
      "    self.run()\n",
      "Traceback (most recent call last):\n",
      "  File \"/usr/lib/python3.8/multiprocessing/process.py\", line 315, in _bootstrap\n",
      "    self.run()\n",
      "  File \"/usr/lib/python3.8/multiprocessing/process.py\", line 315, in _bootstrap\n",
      "    self.run()\n",
      "Traceback (most recent call last):\n",
      "  File \"/usr/lib/python3.8/multiprocessing/process.py\", line 315, in _bootstrap\n",
      "    self.run()\n",
      "Traceback (most recent call last):\n",
      "  File \"/usr/lib/python3.8/multiprocessing/process.py\", line 315, in _bootstrap\n",
      "    self.run()\n",
      "  File \"/usr/lib/python3.8/multiprocessing/process.py\", line 108, in run\n",
      "    self._target(*self._args, **self._kwargs)\n",
      "Traceback (most recent call last):\n",
      "Traceback (most recent call last):\n",
      "  File \"/usr/lib/python3.8/multiprocessing/process.py\", line 315, in _bootstrap\n",
      "    self.run()\n",
      "  File \"/usr/lib/python3.8/multiprocessing/process.py\", line 315, in _bootstrap\n",
      "    self.run()\n",
      "  File \"/usr/lib/python3.8/multiprocessing/process.py\", line 315, in _bootstrap\n",
      "    self.run()\n",
      "Traceback (most recent call last):\n",
      "Traceback (most recent call last):\n",
      "Traceback (most recent call last):\n",
      "  File \"/usr/lib/python3.8/multiprocessing/process.py\", line 315, in _bootstrap\n",
      "    self.run()\n",
      "  File \"/usr/lib/python3.8/multiprocessing/process.py\", line 108, in run\n",
      "    self._target(*self._args, **self._kwargs)\n",
      "Traceback (most recent call last):\n",
      "  File \"/usr/lib/python3.8/multiprocessing/process.py\", line 315, in _bootstrap\n",
      "    self.run()\n",
      "  File \"/usr/lib/python3.8/multiprocessing/process.py\", line 315, in _bootstrap\n",
      "    self.run()\n",
      "  File \"/usr/lib/python3.8/multiprocessing/process.py\", line 108, in run\n",
      "    self._target(*self._args, **self._kwargs)\n",
      "  File \"/usr/lib/python3.8/multiprocessing/process.py\", line 108, in run\n",
      "    self._target(*self._args, **self._kwargs)\n",
      "  File \"/usr/lib/python3.8/multiprocessing/process.py\", line 108, in run\n",
      "    self._target(*self._args, **self._kwargs)\n",
      "  File \"/usr/lib/python3.8/multiprocessing/process.py\", line 315, in _bootstrap\n",
      "    self.run()\n",
      "  File \"/usr/lib/python3.8/multiprocessing/process.py\", line 108, in run\n",
      "    self._target(*self._args, **self._kwargs)\n",
      "  File \"/usr/lib/python3.8/multiprocessing/process.py\", line 108, in run\n",
      "    self._target(*self._args, **self._kwargs)\n",
      "  File \"/usr/lib/python3.8/multiprocessing/process.py\", line 108, in run\n",
      "    self._target(*self._args, **self._kwargs)\n",
      "  File \"/usr/lib/python3.8/multiprocessing/process.py\", line 108, in run\n",
      "    self._target(*self._args, **self._kwargs)\n",
      "  File \"/usr/lib/python3.8/multiprocessing/process.py\", line 108, in run\n",
      "    self._target(*self._args, **self._kwargs)\n",
      "  File \"/usr/lib/python3.8/multiprocessing/process.py\", line 315, in _bootstrap\n",
      "    self.run()\n",
      "  File \"/usr/lib/python3.8/multiprocessing/process.py\", line 108, in run\n",
      "    self._target(*self._args, **self._kwargs)\n",
      "  File \"/usr/lib/python3.8/multiprocessing/process.py\", line 315, in _bootstrap\n",
      "    self.run()\n",
      "  File \"/usr/lib/python3.8/multiprocessing/process.py\", line 108, in run\n",
      "    self._target(*self._args, **self._kwargs)\n",
      "  File \"/usr/lib/python3.8/multiprocessing/process.py\", line 108, in run\n",
      "    self._target(*self._args, **self._kwargs)\n",
      "  File \"/usr/lib/python3.8/multiprocessing/process.py\", line 108, in run\n",
      "    self._target(*self._args, **self._kwargs)\n",
      "  File \"/usr/lib/python3.8/multiprocessing/process.py\", line 315, in _bootstrap\n",
      "    self.run()\n",
      "  File \"/usr/lib/python3.8/multiprocessing/process.py\", line 315, in _bootstrap\n",
      "    self.run()\n",
      "  File \"/usr/lib/python3.8/multiprocessing/process.py\", line 108, in run\n",
      "    self._target(*self._args, **self._kwargs)\n",
      "  File \"/usr/lib/python3.8/multiprocessing/pool.py\", line 114, in worker\n",
      "    task = get()\n",
      "  File \"/usr/lib/python3.8/multiprocessing/process.py\", line 315, in _bootstrap\n",
      "    self.run()\n",
      "  File \"/usr/lib/python3.8/multiprocessing/process.py\", line 315, in _bootstrap\n",
      "    self.run()\n",
      "  File \"/usr/lib/python3.8/multiprocessing/process.py\", line 108, in run\n",
      "    self._target(*self._args, **self._kwargs)\n",
      "  File \"/usr/lib/python3.8/multiprocessing/process.py\", line 108, in run\n",
      "    self._target(*self._args, **self._kwargs)\n",
      "  File \"/usr/lib/python3.8/multiprocessing/process.py\", line 108, in run\n",
      "    self._target(*self._args, **self._kwargs)\n",
      "  File \"/usr/lib/python3.8/multiprocessing/process.py\", line 315, in _bootstrap\n",
      "    self.run()\n",
      "  File \"/usr/lib/python3.8/multiprocessing/process.py\", line 315, in _bootstrap\n",
      "    self.run()\n",
      "  File \"/usr/lib/python3.8/multiprocessing/process.py\", line 108, in run\n",
      "    self._target(*self._args, **self._kwargs)\n",
      "  File \"/usr/lib/python3.8/multiprocessing/process.py\", line 315, in _bootstrap\n",
      "    self.run()\n",
      "  File \"/usr/lib/python3.8/multiprocessing/pool.py\", line 114, in worker\n",
      "    task = get()\n",
      "  File \"/usr/lib/python3.8/multiprocessing/process.py\", line 315, in _bootstrap\n",
      "    self.run()\n",
      "  File \"/usr/lib/python3.8/multiprocessing/process.py\", line 108, in run\n",
      "    self._target(*self._args, **self._kwargs)\n",
      "  File \"/usr/lib/python3.8/multiprocessing/pool.py\", line 114, in worker\n",
      "    task = get()\n",
      "  File \"/usr/lib/python3.8/multiprocessing/pool.py\", line 114, in worker\n",
      "    task = get()\n",
      "  File \"/usr/lib/python3.8/multiprocessing/process.py\", line 108, in run\n",
      "    self._target(*self._args, **self._kwargs)\n",
      "  File \"/usr/lib/python3.8/multiprocessing/process.py\", line 108, in run\n",
      "    self._target(*self._args, **self._kwargs)\n",
      "  File \"/usr/lib/python3.8/multiprocessing/pool.py\", line 114, in worker\n",
      "    task = get()\n",
      "  File \"/usr/lib/python3.8/multiprocessing/pool.py\", line 114, in worker\n",
      "    task = get()\n",
      "  File \"/usr/lib/python3.8/multiprocessing/pool.py\", line 114, in worker\n",
      "    task = get()\n",
      "  File \"/usr/lib/python3.8/multiprocessing/pool.py\", line 114, in worker\n",
      "    task = get()\n",
      "  File \"/usr/lib/python3.8/multiprocessing/pool.py\", line 114, in worker\n",
      "    task = get()\n",
      "  File \"/usr/lib/python3.8/multiprocessing/process.py\", line 108, in run\n",
      "    self._target(*self._args, **self._kwargs)\n",
      "  File \"/usr/lib/python3.8/multiprocessing/pool.py\", line 114, in worker\n",
      "    task = get()\n",
      "  File \"/usr/lib/python3.8/multiprocessing/process.py\", line 108, in run\n",
      "    self._target(*self._args, **self._kwargs)\n",
      "  File \"/usr/lib/python3.8/multiprocessing/pool.py\", line 114, in worker\n",
      "    task = get()\n",
      "  File \"/usr/lib/python3.8/multiprocessing/pool.py\", line 114, in worker\n",
      "    task = get()\n",
      "  File \"/usr/lib/python3.8/multiprocessing/pool.py\", line 114, in worker\n",
      "    task = get()\n",
      "  File \"/usr/lib/python3.8/multiprocessing/process.py\", line 108, in run\n",
      "    self._target(*self._args, **self._kwargs)\n",
      "  File \"/usr/lib/python3.8/multiprocessing/pool.py\", line 114, in worker\n",
      "    task = get()\n",
      "  File \"/usr/lib/python3.8/multiprocessing/process.py\", line 108, in run\n",
      "    self._target(*self._args, **self._kwargs)\n",
      "  File \"/usr/lib/python3.8/multiprocessing/queues.py\", line 355, in get\n",
      "    with self._rlock:\n",
      "  File \"/usr/lib/python3.8/multiprocessing/process.py\", line 108, in run\n",
      "    self._target(*self._args, **self._kwargs)\n",
      "  File \"/usr/lib/python3.8/multiprocessing/pool.py\", line 114, in worker\n",
      "    task = get()\n",
      "  File \"/usr/lib/python3.8/multiprocessing/process.py\", line 108, in run\n",
      "    self._target(*self._args, **self._kwargs)\n",
      "  File \"/usr/lib/python3.8/multiprocessing/pool.py\", line 114, in worker\n",
      "    task = get()\n",
      "  File \"/usr/lib/python3.8/multiprocessing/pool.py\", line 114, in worker\n",
      "    task = get()\n",
      "  File \"/usr/lib/python3.8/multiprocessing/process.py\", line 108, in run\n",
      "    self._target(*self._args, **self._kwargs)\n",
      "  File \"/usr/lib/python3.8/multiprocessing/pool.py\", line 114, in worker\n",
      "    task = get()\n",
      "  File \"/usr/lib/python3.8/multiprocessing/process.py\", line 108, in run\n",
      "    self._target(*self._args, **self._kwargs)\n",
      "  File \"/usr/lib/python3.8/multiprocessing/pool.py\", line 114, in worker\n",
      "    task = get()\n",
      "  File \"/usr/lib/python3.8/multiprocessing/process.py\", line 108, in run\n",
      "    self._target(*self._args, **self._kwargs)\n",
      "  File \"/usr/lib/python3.8/multiprocessing/pool.py\", line 114, in worker\n",
      "    task = get()\n",
      "  File \"/usr/lib/python3.8/multiprocessing/process.py\", line 108, in run\n",
      "    self._target(*self._args, **self._kwargs)\n",
      "  File \"/usr/lib/python3.8/multiprocessing/queues.py\", line 355, in get\n",
      "    with self._rlock:\n",
      "  File \"/usr/lib/python3.8/multiprocessing/queues.py\", line 355, in get\n",
      "    with self._rlock:\n",
      "  File \"/usr/lib/python3.8/multiprocessing/queues.py\", line 355, in get\n",
      "    with self._rlock:\n",
      "  File \"/usr/lib/python3.8/multiprocessing/pool.py\", line 114, in worker\n",
      "    task = get()\n",
      "  File \"/usr/lib/python3.8/multiprocessing/queues.py\", line 355, in get\n",
      "    with self._rlock:\n",
      "  File \"/usr/lib/python3.8/multiprocessing/queues.py\", line 355, in get\n",
      "    with self._rlock:\n",
      "  File \"/usr/lib/python3.8/multiprocessing/pool.py\", line 114, in worker\n",
      "    task = get()\n",
      "  File \"/usr/lib/python3.8/multiprocessing/queues.py\", line 355, in get\n",
      "    with self._rlock:\n",
      "  File \"/usr/lib/python3.8/multiprocessing/queues.py\", line 355, in get\n",
      "    with self._rlock:\n",
      "  File \"/usr/lib/python3.8/multiprocessing/queues.py\", line 355, in get\n",
      "    with self._rlock:\n",
      "  File \"/usr/lib/python3.8/multiprocessing/queues.py\", line 355, in get\n",
      "    with self._rlock:\n",
      "  File \"/usr/lib/python3.8/multiprocessing/pool.py\", line 114, in worker\n",
      "    task = get()\n",
      "  File \"/usr/lib/python3.8/multiprocessing/queues.py\", line 355, in get\n",
      "    with self._rlock:\n",
      "  File \"/usr/lib/python3.8/multiprocessing/pool.py\", line 114, in worker\n",
      "    task = get()\n",
      "  File \"/usr/lib/python3.8/multiprocessing/queues.py\", line 355, in get\n",
      "    with self._rlock:\n",
      "  File \"/usr/lib/python3.8/multiprocessing/queues.py\", line 355, in get\n",
      "    with self._rlock:\n",
      "  File \"/usr/lib/python3.8/multiprocessing/pool.py\", line 114, in worker\n",
      "    task = get()\n",
      "  File \"/usr/lib/python3.8/multiprocessing/queues.py\", line 355, in get\n",
      "    with self._rlock:\n",
      "  File \"/usr/lib/python3.8/multiprocessing/pool.py\", line 114, in worker\n",
      "    task = get()\n",
      "  File \"/usr/lib/python3.8/multiprocessing/synchronize.py\", line 95, in __enter__\n",
      "    return self._semlock.__enter__()\n",
      "  File \"/usr/lib/python3.8/multiprocessing/pool.py\", line 114, in worker\n",
      "    task = get()\n",
      "  File \"/usr/lib/python3.8/multiprocessing/pool.py\", line 114, in worker\n",
      "    task = get()\n",
      "  File \"/usr/lib/python3.8/multiprocessing/queues.py\", line 356, in get\n",
      "    res = self._reader.recv_bytes()\n",
      "  File \"/usr/lib/python3.8/multiprocessing/queues.py\", line 355, in get\n",
      "    with self._rlock:\n",
      "  File \"/usr/lib/python3.8/multiprocessing/queues.py\", line 355, in get\n",
      "    with self._rlock:\n",
      "  File \"/usr/lib/python3.8/multiprocessing/pool.py\", line 114, in worker\n",
      "    task = get()\n",
      "  File \"/usr/lib/python3.8/multiprocessing/queues.py\", line 355, in get\n",
      "    with self._rlock:\n",
      "  File \"/usr/lib/python3.8/multiprocessing/pool.py\", line 114, in worker\n",
      "    task = get()\n",
      "  File \"/usr/lib/python3.8/multiprocessing/pool.py\", line 114, in worker\n",
      "    task = get()\n",
      "  File \"/usr/lib/python3.8/multiprocessing/queues.py\", line 355, in get\n",
      "    with self._rlock:\n",
      "  File \"/usr/lib/python3.8/multiprocessing/queues.py\", line 355, in get\n",
      "    with self._rlock:\n",
      "  File \"/usr/lib/python3.8/multiprocessing/pool.py\", line 114, in worker\n",
      "    task = get()\n",
      "  File \"/usr/lib/python3.8/multiprocessing/synchronize.py\", line 95, in __enter__\n",
      "    return self._semlock.__enter__()\n",
      "  File \"/usr/lib/python3.8/multiprocessing/synchronize.py\", line 95, in __enter__\n",
      "    return self._semlock.__enter__()\n",
      "  File \"/usr/lib/python3.8/multiprocessing/queues.py\", line 355, in get\n",
      "    with self._rlock:\n",
      "  File \"/usr/lib/python3.8/multiprocessing/synchronize.py\", line 95, in __enter__\n",
      "    return self._semlock.__enter__()\n",
      "  File \"/usr/lib/python3.8/multiprocessing/synchronize.py\", line 95, in __enter__\n",
      "    return self._semlock.__enter__()\n",
      "  File \"/usr/lib/python3.8/multiprocessing/synchronize.py\", line 95, in __enter__\n",
      "    return self._semlock.__enter__()\n",
      "  File \"/usr/lib/python3.8/multiprocessing/synchronize.py\", line 95, in __enter__\n",
      "    return self._semlock.__enter__()\n",
      "  File \"/usr/lib/python3.8/multiprocessing/queues.py\", line 355, in get\n",
      "    with self._rlock:\n",
      "  File \"/usr/lib/python3.8/multiprocessing/synchronize.py\", line 95, in __enter__\n",
      "    return self._semlock.__enter__()\n",
      "  File \"/usr/lib/python3.8/multiprocessing/synchronize.py\", line 95, in __enter__\n",
      "    return self._semlock.__enter__()\n",
      "  File \"/usr/lib/python3.8/multiprocessing/queues.py\", line 355, in get\n",
      "    with self._rlock:\n",
      "  File \"/usr/lib/python3.8/multiprocessing/synchronize.py\", line 95, in __enter__\n",
      "    return self._semlock.__enter__()\n",
      "  File \"/usr/lib/python3.8/multiprocessing/synchronize.py\", line 95, in __enter__\n",
      "    return self._semlock.__enter__()\n",
      "  File \"/usr/lib/python3.8/multiprocessing/queues.py\", line 355, in get\n",
      "    with self._rlock:\n",
      "  File \"/usr/lib/python3.8/multiprocessing/synchronize.py\", line 95, in __enter__\n",
      "    return self._semlock.__enter__()\n",
      "  File \"/usr/lib/python3.8/multiprocessing/synchronize.py\", line 95, in __enter__\n",
      "    return self._semlock.__enter__()\n",
      "  File \"/usr/lib/python3.8/multiprocessing/queues.py\", line 355, in get\n",
      "    with self._rlock:\n",
      "  File \"/usr/lib/python3.8/multiprocessing/synchronize.py\", line 95, in __enter__\n",
      "    return self._semlock.__enter__()\n",
      "  File \"/usr/lib/python3.8/multiprocessing/queues.py\", line 355, in get\n",
      "    with self._rlock:\n",
      "KeyboardInterrupt\n",
      "  File \"/usr/lib/python3.8/multiprocessing/queues.py\", line 355, in get\n",
      "    with self._rlock:\n",
      "  File \"/usr/lib/python3.8/multiprocessing/connection.py\", line 216, in recv_bytes\n",
      "    buf = self._recv_bytes(maxlength)\n",
      "  File \"/usr/lib/python3.8/multiprocessing/queues.py\", line 355, in get\n",
      "    with self._rlock:\n",
      "  File \"/usr/lib/python3.8/multiprocessing/synchronize.py\", line 95, in __enter__\n",
      "    return self._semlock.__enter__()\n",
      "  File \"/usr/lib/python3.8/multiprocessing/synchronize.py\", line 95, in __enter__\n",
      "    return self._semlock.__enter__()\n",
      "  File \"/usr/lib/python3.8/multiprocessing/synchronize.py\", line 95, in __enter__\n",
      "    return self._semlock.__enter__()\n",
      "  File \"/usr/lib/python3.8/multiprocessing/queues.py\", line 355, in get\n",
      "    with self._rlock:\n",
      "  File \"/usr/lib/python3.8/multiprocessing/queues.py\", line 355, in get\n",
      "    with self._rlock:\n",
      "  File \"/usr/lib/python3.8/multiprocessing/queues.py\", line 355, in get\n",
      "    with self._rlock:\n",
      "  File \"/usr/lib/python3.8/multiprocessing/synchronize.py\", line 95, in __enter__\n",
      "    return self._semlock.__enter__()\n",
      "  File \"/usr/lib/python3.8/multiprocessing/synchronize.py\", line 95, in __enter__\n",
      "    return self._semlock.__enter__()\n",
      "KeyboardInterrupt\n",
      "  File \"/usr/lib/python3.8/multiprocessing/queues.py\", line 355, in get\n",
      "    with self._rlock:\n",
      "  File \"/usr/lib/python3.8/multiprocessing/synchronize.py\", line 95, in __enter__\n",
      "    return self._semlock.__enter__()\n",
      "KeyboardInterrupt\n",
      "KeyboardInterrupt\n",
      "KeyboardInterrupt\n",
      "KeyboardInterrupt\n",
      "KeyboardInterrupt\n",
      "  File \"/usr/lib/python3.8/multiprocessing/synchronize.py\", line 95, in __enter__\n",
      "    return self._semlock.__enter__()\n",
      "KeyboardInterrupt\n",
      "  File \"/usr/lib/python3.8/multiprocessing/synchronize.py\", line 95, in __enter__\n",
      "    return self._semlock.__enter__()\n",
      "KeyboardInterrupt\n",
      "KeyboardInterrupt\n",
      "KeyboardInterrupt\n",
      "KeyboardInterrupt\n",
      "  File \"/usr/lib/python3.8/multiprocessing/synchronize.py\", line 95, in __enter__\n",
      "    return self._semlock.__enter__()\n",
      "KeyboardInterrupt\n",
      "  File \"/usr/lib/python3.8/multiprocessing/synchronize.py\", line 95, in __enter__\n",
      "    return self._semlock.__enter__()\n",
      "  File \"/usr/lib/python3.8/multiprocessing/synchronize.py\", line 95, in __enter__\n",
      "    return self._semlock.__enter__()\n",
      "KeyboardInterrupt\n",
      "  File \"/usr/lib/python3.8/multiprocessing/synchronize.py\", line 95, in __enter__\n",
      "    return self._semlock.__enter__()\n",
      "  File \"/usr/lib/python3.8/multiprocessing/connection.py\", line 414, in _recv_bytes\n",
      "    buf = self._recv(4)\n",
      "KeyboardInterrupt\n",
      "  File \"/usr/lib/python3.8/multiprocessing/synchronize.py\", line 95, in __enter__\n",
      "    return self._semlock.__enter__()\n",
      "KeyboardInterrupt\n",
      "KeyboardInterrupt\n",
      "  File \"/usr/lib/python3.8/multiprocessing/synchronize.py\", line 95, in __enter__\n",
      "    return self._semlock.__enter__()\n",
      "  File \"/usr/lib/python3.8/multiprocessing/synchronize.py\", line 95, in __enter__\n",
      "    return self._semlock.__enter__()\n",
      "  File \"/usr/lib/python3.8/multiprocessing/synchronize.py\", line 95, in __enter__\n",
      "    return self._semlock.__enter__()\n",
      "KeyboardInterrupt\n",
      "KeyboardInterrupt\n",
      "  File \"/usr/lib/python3.8/multiprocessing/synchronize.py\", line 95, in __enter__\n",
      "    return self._semlock.__enter__()\n",
      "KeyboardInterrupt\n",
      "KeyboardInterrupt\n",
      "KeyboardInterrupt\n",
      "KeyboardInterrupt\n",
      "KeyboardInterrupt\n",
      "KeyboardInterrupt\n",
      "  File \"/usr/lib/python3.8/multiprocessing/connection.py\", line 379, in _recv\n",
      "    chunk = read(handle, remaining)\n",
      "KeyboardInterrupt\n",
      "KeyboardInterrupt\n",
      "KeyboardInterrupt\n",
      "KeyboardInterrupt\n",
      "KeyboardInterrupt\n",
      "KeyboardInterrupt\n",
      "KeyboardInterrupt\n"
     ]
    }
   ],
   "source": [
    "k = 10 ** 8\n",
    "recs = []\n",
    "def calc_rec(n):\n",
    "    global k\n",
    "    return (1/k) * model.forward_pass([((n)/k) - (1/(2*k))])[0]\n",
    "\n",
    "def calc_chunks(n_list):\n",
    "    global k\n",
    "    area = 0\n",
    "    for n in tqdm(n_list):\n",
    "        area += (1/k) * model.forward_pass([((n)/k) - (1/(2*k))])[0]\n",
    "    return area\n",
    "        \n",
    "import math\n",
    "n = math.ceil(k/32)\n",
    "chunks = [range(1, k+1)[i * n:(i + 1) * n] for i in range((k + n - 1) // n )]\n",
    "        \n",
    "p = Pool(32)\n",
    "# for n in tqdm(range(1, k + 1)):\n",
    "#     recs.append(calc_rec(n))\n",
    "print(\"Starting pool...\")\n",
    "recs = p.map(calc_chunks, chunks)\n",
    "# recs = p.map(calc_rec, range(k - 1))"
   ]
  },
  {
   "cell_type": "code",
   "execution_count": 5,
   "metadata": {},
   "outputs": [
    {
     "name": "stdout",
     "output_type": "stream",
     "text": [
      "32\n",
      "\n",
      "0.18666900017981225\n"
     ]
    }
   ],
   "source": [
    "print(len(recs))\n",
    "area = sum(recs)\n",
    "print(\"\\n\" + str(area))"
   ]
  },
  {
   "cell_type": "code",
   "execution_count": null,
   "metadata": {},
   "outputs": [],
   "source": []
  },
  {
   "cell_type": "code",
   "execution_count": 36,
   "metadata": {},
   "outputs": [
    {
     "name": "stdout",
     "output_type": "stream",
     "text": [
      "[1, 10, 100, 1000, 10000, 100000, 1000000, 10000000]\n"
     ]
    },
    {
     "data": {
      "text/plain": [
       "[<matplotlib.lines.Line2D at 0x7f8f2bbed8b0>]"
      ]
     },
     "execution_count": 36,
     "metadata": {},
     "output_type": "execute_result"
    },
    {
     "data": {
      "image/png": "[encoded data removed]",
      "text/plain": [
       "<Figure size 432x288 with 1 Axes>"
      ]
     },
     "metadata": {
      "needs_background": "light"
     },
     "output_type": "display_data"
    }
   ],
   "source": [
    "areas_y = [0.11069342869419228,0.18413878550276258,0.1881572698868828,0.18820527485903313,0.1882057558616742,0.1882057606717955,0.18820576071989983,0.18820576072036385,0.18820576072038028]\n",
    "areas_x = [10**i for i in range(len(areas_y))]\n",
    "print(areas_x)\n",
    "plt.plot(areas_y)"
   ]
  },
  {
   "cell_type": "code",
   "execution_count": null,
   "metadata": {},
   "outputs": [],
   "source": []
  },
  {
   "cell_type": "code",
   "execution_count": 11,
   "metadata": {},
   "outputs": [
    {
     "name": "stdout",
     "output_type": "stream",
     "text": [
      "62.66619996403755\n"
     ]
    }
   ],
   "source": [
    "print(200*(0.5-0.18666900017981225))"
   ]
  },
  {
   "cell_type": "code",
   "execution_count": 8,
   "metadata": {},
   "outputs": [
    {
     "name": "stdout",
     "output_type": "stream",
     "text": [
      "0.10411620659512832\n"
     ]
    }
   ],
   "source": [
    "print(model.forward_pass([1.00])[0]-model.forward_pass([0.99])[0])"
   ]
  },
  {
   "cell_type": "code",
   "execution_count": null,
   "metadata": {},
   "outputs": [],
   "source": []
  }
 ],
 "metadata": {
  "colab": {
   "collapsed_sections": [],
   "name": "Lorenz Curve Regression.ipynb",
   "provenance": []
  },
  "kernelspec": {
   "display_name": "Python 3",
   "language": "python",
   "name": "python3"
  },
  "language_info": {
   "codemirror_mode": {
    "name": "ipython",
    "version": 3
   },
   "file_extension": ".py",
   "mimetype": "text/x-python",
   "name": "python",
   "nbconvert_exporter": "python",
   "pygments_lexer": "ipython3",
   "version": "3.8.2"
  }
 },
 "nbformat": 4,
 "nbformat_minor": 4
}
