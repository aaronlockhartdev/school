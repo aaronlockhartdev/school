{
 "cells": [
  {
   "cell_type": "code",
   "execution_count": 1,
   "metadata": {},
   "outputs": [],
   "source": [
    "from IPython.display import clear_output\n",
    "import matplotlib as mpl\n",
    "import matplotlib.pyplot as plt\n",
    "import numpy as np\n",
    "import requests\n",
    "import math\n",
    "import time\n",
    "from random import randint, random, randrange\n",
    "from multiprocessing import Pool\n",
    "from tqdm import tqdm, trange\n",
    "%matplotlib widget"
   ]
  },
  {
   "cell_type": "code",
   "execution_count": 2,
   "metadata": {},
   "outputs": [],
   "source": [
    "LR = 1e-2\n",
    "EPOCHS = 10000\n",
    "DATASET_LINKS = [\"https://s3.dualstack.us-east-1.amazonaws.com/opencitymodel/2019-jun/json/Massachusetts/25021/Massachusetts-25021-000.json\",\n",
    "                \"https://s3.dualstack.us-east-1.amazonaws.com/opencitymodel/2019-jun/json/Massachusetts/25021/Massachusetts-25021-001.json\",\n",
    "                \"https://s3.dualstack.us-east-1.amazonaws.com/opencitymodel/2019-jun/json/Massachusetts/25021/Massachusetts-25021-002.json\",\n",
    "                \"https://s3.dualstack.us-east-1.amazonaws.com/opencitymodel/2019-jun/json/Massachusetts/25021/Massachusetts-25021-003.json\",\n",
    "                \"https://s3.dualstack.us-east-1.amazonaws.com/opencitymodel/2019-jun/json/Massachusetts/25021/Massachusetts-25021-004.json\",\n",
    "                \"https://s3.dualstack.us-east-1.amazonaws.com/opencitymodel/2019-jun/json/Massachusetts/25021/Massachusetts-25021-005.json\",\n",
    "                \"https://s3.dualstack.us-east-1.amazonaws.com/opencitymodel/2019-jun/json/Massachusetts/25021/Massachusetts-25021-006.json\"]"
   ]
  },
  {
   "cell_type": "code",
   "execution_count": 3,
   "metadata": {},
   "outputs": [],
   "source": [
    "def download_dataset(link):\n",
    "    res = requests.get(link)\n",
    "    return res.json()\n",
    "def parse_datasets(raw_datasets):\n",
    "    parsed_dataset = []\n",
    "    for i, raw_dataset in enumerate(raw_datasets):\n",
    "        print(f\"Parsing dataset {i + 1}...\")\n",
    "        time.sleep(0.5)\n",
    "        for building in tqdm(raw_dataset[\"CityObjects\"]):\n",
    "            parsed_dataset.append((raw_dataset[\"CityObjects\"][building][\"attributes\"][\"latitude\"], \n",
    "                                   raw_dataset[\"CityObjects\"][building][\"attributes\"][\"longitude\"]))\n",
    "    return zip(*parsed_dataset)\n"
   ]
  },
  {
   "cell_type": "code",
   "execution_count": 4,
   "metadata": {},
   "outputs": [
    {
     "name": "stdout",
     "output_type": "stream",
     "text": [
      "Downloading datasets...\n"
     ]
    },
    {
     "name": "stderr",
     "output_type": "stream",
     "text": [
      "100%|██████████| 7/7 [00:23<00:00,  3.37s/it]\n"
     ]
    }
   ],
   "source": [
    "raw_datasets = []\n",
    "print(\"Downloading datasets...\")\n",
    "time.sleep(0.5)\n",
    "for link in tqdm(DATASET_LINKS):\n",
    "    raw_datasets.append(download_dataset(link))"
   ]
  },
  {
   "cell_type": "code",
   "execution_count": 5,
   "metadata": {},
   "outputs": [
    {
     "name": "stdout",
     "output_type": "stream",
     "text": [
      "Parsing dataset 1...\n"
     ]
    },
    {
     "name": "stderr",
     "output_type": "stream",
     "text": [
      "100%|██████████| 40000/40000 [00:00<00:00, 381350.63it/s]\n"
     ]
    },
    {
     "name": "stdout",
     "output_type": "stream",
     "text": [
      "Parsing dataset 2...\n"
     ]
    },
    {
     "name": "stderr",
     "output_type": "stream",
     "text": [
      "100%|██████████| 40000/40000 [00:00<00:00, 362491.97it/s]\n"
     ]
    },
    {
     "name": "stdout",
     "output_type": "stream",
     "text": [
      "Parsing dataset 3...\n"
     ]
    },
    {
     "name": "stderr",
     "output_type": "stream",
     "text": [
      "100%|██████████| 40000/40000 [00:00<00:00, 367080.98it/s]\n"
     ]
    },
    {
     "name": "stdout",
     "output_type": "stream",
     "text": [
      "Parsing dataset 4...\n"
     ]
    },
    {
     "name": "stderr",
     "output_type": "stream",
     "text": [
      "100%|██████████| 40000/40000 [00:00<00:00, 355646.91it/s]\n"
     ]
    },
    {
     "name": "stdout",
     "output_type": "stream",
     "text": [
      "Parsing dataset 5...\n"
     ]
    },
    {
     "name": "stderr",
     "output_type": "stream",
     "text": [
      "100%|██████████| 40000/40000 [00:00<00:00, 425009.72it/s]\n"
     ]
    },
    {
     "name": "stdout",
     "output_type": "stream",
     "text": [
      "Parsing dataset 6...\n"
     ]
    },
    {
     "name": "stderr",
     "output_type": "stream",
     "text": [
      "100%|██████████| 40000/40000 [00:00<00:00, 451218.76it/s]\n"
     ]
    },
    {
     "name": "stdout",
     "output_type": "stream",
     "text": [
      "Parsing dataset 7...\n"
     ]
    },
    {
     "name": "stderr",
     "output_type": "stream",
     "text": [
      "100%|██████████| 7263/7263 [00:00<00:00, 551740.17it/s]\n"
     ]
    }
   ],
   "source": [
    "x_data, y_data = parse_datasets(raw_datasets)\n",
    "x_data = list(x_data)\n",
    "y_data = list(y_data)"
   ]
  },
  {
   "cell_type": "code",
   "execution_count": 6,
   "metadata": {},
   "outputs": [
    {
     "name": "stdout",
     "output_type": "stream",
     "text": [
      "247263\n"
     ]
    }
   ],
   "source": [
    "print(len(x_data))"
   ]
  },
  {
   "cell_type": "code",
   "execution_count": 19,
   "metadata": {},
   "outputs": [],
   "source": [
    "class Model():\n",
    "    def __init__(self, x_data, y_data):\n",
    "        self.x_var = random() * (max(x_data) - min(x_data)) + min(x_data)\n",
    "        self.y_var = random() * (max(y_data) - min(y_data)) + min(y_data)\n",
    "        self.loss = 0\n",
    "        self.results = []\n",
    "    def get_loss(self, x_data, y_data):\n",
    "        self.loss = 0\n",
    "        self.results = []\n",
    "        for i in range(len(x_data)):\n",
    "            tmp_loss = math.sqrt(((self.x_var - x_data[i]) ** 2) + ((self.y_var - y_data[i]) ** 2))\n",
    "            self.results.append(tmp_loss)\n",
    "            self.loss += tmp_loss\n",
    "        self.loss /= len(x_data)\n",
    "    def backpropogate(self, x_data, y_data):\n",
    "        x_deriv = 0\n",
    "        for i, x in enumerate(x_data):\n",
    "            x_deriv += (self.x_var - x) / self.results[i]\n",
    "        x_deriv /= len(x_data)\n",
    "        y_deriv = 0\n",
    "        for i, y in enumerate(y_data):\n",
    "            y_deriv += (self.y_var - y) / self.results[i]\n",
    "        y_deriv /= len(y_data)\n",
    "        \n",
    "        self.x_var -= LR * x_deriv\n",
    "        self.y_var -= LR * y_deriv\n",
    "    def train(self, x_data, y_data):\n",
    "#         pbar = trange(EPOCHS, desc=\"loss = {loss:.20f}\".format(loss=model.loss))\n",
    "        fig = plt.figure()\n",
    "        ax = fig.add_subplot(111)\n",
    "        plt.ion()\n",
    "        ax.plot(x_data, y_data, '.', markersize = 0.025, color=\"black\")\n",
    "        ax.plot(self.x_var, self.y_var, '.', markersize=10, color=\"red\")\n",
    "\n",
    "        fig.show()\n",
    "\n",
    "        fig.canvas.draw()\n",
    "#         return\n",
    "        for i in range(EPOCHS):\n",
    "#             clear_output(wait=True)\n",
    "#             pbar.set_description(\"loss = {loss:.20f}\".format(loss=model.loss))\n",
    "#             pbar.refresh()\n",
    "            \n",
    "            ax.clear()\n",
    "            ax.plot(x_data, y_data, '.', markersize = 0.025, color=\"black\")\n",
    "            ax.plot(self.x_var, self.y_var, '.', markersize=10, color=\"red\")\n",
    "            fig.canvas.draw()\n",
    "#             self.get_loss(x_data, y_data)\n",
    "#             self.backpropogate(x_data, y_data)\n",
    "model = Model(x_data, y_data)   "
   ]
  },
  {
   "cell_type": "code",
   "execution_count": null,
   "metadata": {},
   "outputs": [
    {
     "data": {
      "application/vnd.jupyter.widget-view+json": {
       "model_id": "3f1b966f44654d48a36a6b79b7d7156a",
       "version_major": 2,
       "version_minor": 0
      },
      "text/plain": [
       "Canvas(toolbar=Toolbar(toolitems=[('Home', 'Reset original view', 'home', 'home'), ('Back', 'Back to previous …"
      ]
     },
     "metadata": {},
     "output_type": "display_data"
    }
   ],
   "source": [
    "model.train(x_data, y_data)"
   ]
  },
  {
   "cell_type": "code",
   "execution_count": null,
   "metadata": {},
   "outputs": [],
   "source": [
    "fig = plt.figure()\n",
    "buildings = fig.add_subplot(111)\n",
    "power_plant = fig.add_subplot(111)\n",
    "plt.ion()\n",
    "buildings.plot(x_data, y_data, '.', markersize = 0.025, color=\"black\")\n",
    "power_plant.plot(model.x_var, model.y_var, '.', markersize=10, color=\"red\")\n",
    "\n",
    "fig.show()\n",
    "fig.canvas.draw()"
   ]
  },
  {
   "cell_type": "code",
   "execution_count": null,
   "metadata": {},
   "outputs": [],
   "source": []
  }
 ],
 "metadata": {
  "kernelspec": {
   "display_name": "Python 3",
   "language": "python",
   "name": "python3"
  },
  "language_info": {
   "codemirror_mode": {
    "name": "ipython",
    "version": 3
   },
   "file_extension": ".py",
   "mimetype": "text/x-python",
   "name": "python",
   "nbconvert_exporter": "python",
   "pygments_lexer": "ipython3",
   "version": "3.8.2"
  }
 },
 "nbformat": 4,
 "nbformat_minor": 4
}
